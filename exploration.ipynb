{
 "cells": [
  {
   "cell_type": "markdown",
   "metadata": {},
   "source": [
    "# Analyzing Bay Wheels trip data on April 2020\n",
    "### by Gabriel Medeiros das Neves"
   ]
  },
  {
   "cell_type": "markdown",
   "metadata": {},
   "source": [
    "## Introduction"
   ]
  },
  {
   "cell_type": "markdown",
   "metadata": {},
   "source": [
    "Write a briefly introduction to the study and the dataset here."
   ]
  },
  {
   "cell_type": "code",
   "execution_count": 1,
   "metadata": {},
   "outputs": [],
   "source": [
    "import numpy as np\n",
    "import pandas as pd\n",
    "import matplotlib.pyplot as plt\n",
    "import seaborn as sns\n",
    "\n",
    "%matplotlib inline"
   ]
  },
  {
   "cell_type": "markdown",
   "metadata": {},
   "source": [
    "## Data Wrangling\n",
    "In this section of the report I will gather the necessary data, understand its general properties, identify and clean possible issues, such as missing or incorrect values, for example."
   ]
  },
  {
   "cell_type": "markdown",
   "metadata": {},
   "source": [
    "### Gather\n",
    "Here I'll be converting the provided `.csv` file in a Pandas DataFrame."
   ]
  },
  {
   "cell_type": "code",
   "execution_count": 2,
   "metadata": {},
   "outputs": [
    {
     "data": {
      "text/html": [
       "<div>\n",
       "<style scoped>\n",
       "    .dataframe tbody tr th:only-of-type {\n",
       "        vertical-align: middle;\n",
       "    }\n",
       "\n",
       "    .dataframe tbody tr th {\n",
       "        vertical-align: top;\n",
       "    }\n",
       "\n",
       "    .dataframe thead th {\n",
       "        text-align: right;\n",
       "    }\n",
       "</style>\n",
       "<table border=\"1\" class=\"dataframe\">\n",
       "  <thead>\n",
       "    <tr style=\"text-align: right;\">\n",
       "      <th></th>\n",
       "      <th>ride_id</th>\n",
       "      <th>rideable_type</th>\n",
       "      <th>started_at</th>\n",
       "      <th>ended_at</th>\n",
       "      <th>start_station_name</th>\n",
       "      <th>start_station_id</th>\n",
       "      <th>end_station_name</th>\n",
       "      <th>end_station_id</th>\n",
       "      <th>start_lat</th>\n",
       "      <th>start_lng</th>\n",
       "      <th>end_lat</th>\n",
       "      <th>end_lng</th>\n",
       "      <th>member_casual</th>\n",
       "    </tr>\n",
       "  </thead>\n",
       "  <tbody>\n",
       "    <tr>\n",
       "      <td>0</td>\n",
       "      <td>5A1FF31692371859</td>\n",
       "      <td>electric_bike</td>\n",
       "      <td>2020-04-04 08:28:20</td>\n",
       "      <td>2020-04-04 08:33:34</td>\n",
       "      <td>NaN</td>\n",
       "      <td>NaN</td>\n",
       "      <td>NaN</td>\n",
       "      <td>NaN</td>\n",
       "      <td>37.7692</td>\n",
       "      <td>-122.4209</td>\n",
       "      <td>37.7703</td>\n",
       "      <td>-122.4069</td>\n",
       "      <td>casual</td>\n",
       "    </tr>\n",
       "    <tr>\n",
       "      <td>1</td>\n",
       "      <td>D8D5BA2D4F051133</td>\n",
       "      <td>electric_bike</td>\n",
       "      <td>2020-04-03 18:55:43</td>\n",
       "      <td>2020-04-03 19:21:05</td>\n",
       "      <td>NaN</td>\n",
       "      <td>NaN</td>\n",
       "      <td>NaN</td>\n",
       "      <td>NaN</td>\n",
       "      <td>37.8023</td>\n",
       "      <td>-122.4244</td>\n",
       "      <td>37.8023</td>\n",
       "      <td>-122.4244</td>\n",
       "      <td>casual</td>\n",
       "    </tr>\n",
       "    <tr>\n",
       "      <td>2</td>\n",
       "      <td>A3633A9140CA4FF8</td>\n",
       "      <td>electric_bike</td>\n",
       "      <td>2020-04-04 15:11:04</td>\n",
       "      <td>2020-04-04 15:12:21</td>\n",
       "      <td>NaN</td>\n",
       "      <td>NaN</td>\n",
       "      <td>NaN</td>\n",
       "      <td>NaN</td>\n",
       "      <td>37.7667</td>\n",
       "      <td>-122.3961</td>\n",
       "      <td>37.7667</td>\n",
       "      <td>-122.3962</td>\n",
       "      <td>casual</td>\n",
       "    </tr>\n",
       "    <tr>\n",
       "      <td>3</td>\n",
       "      <td>301F57EB0197A5E0</td>\n",
       "      <td>electric_bike</td>\n",
       "      <td>2020-04-03 20:21:03</td>\n",
       "      <td>2020-04-03 22:08:06</td>\n",
       "      <td>8th St at Ringold St</td>\n",
       "      <td>60.0</td>\n",
       "      <td>NaN</td>\n",
       "      <td>NaN</td>\n",
       "      <td>37.7744</td>\n",
       "      <td>-122.4095</td>\n",
       "      <td>37.7805</td>\n",
       "      <td>-122.4033</td>\n",
       "      <td>casual</td>\n",
       "    </tr>\n",
       "    <tr>\n",
       "      <td>4</td>\n",
       "      <td>9429C701AF5744B3</td>\n",
       "      <td>electric_bike</td>\n",
       "      <td>2020-04-03 18:39:39</td>\n",
       "      <td>2020-04-03 18:47:19</td>\n",
       "      <td>NaN</td>\n",
       "      <td>NaN</td>\n",
       "      <td>NaN</td>\n",
       "      <td>NaN</td>\n",
       "      <td>37.8027</td>\n",
       "      <td>-122.4433</td>\n",
       "      <td>37.8009</td>\n",
       "      <td>-122.4269</td>\n",
       "      <td>casual</td>\n",
       "    </tr>\n",
       "  </tbody>\n",
       "</table>\n",
       "</div>"
      ],
      "text/plain": [
       "            ride_id  rideable_type           started_at             ended_at  \\\n",
       "0  5A1FF31692371859  electric_bike  2020-04-04 08:28:20  2020-04-04 08:33:34   \n",
       "1  D8D5BA2D4F051133  electric_bike  2020-04-03 18:55:43  2020-04-03 19:21:05   \n",
       "2  A3633A9140CA4FF8  electric_bike  2020-04-04 15:11:04  2020-04-04 15:12:21   \n",
       "3  301F57EB0197A5E0  electric_bike  2020-04-03 20:21:03  2020-04-03 22:08:06   \n",
       "4  9429C701AF5744B3  electric_bike  2020-04-03 18:39:39  2020-04-03 18:47:19   \n",
       "\n",
       "     start_station_name  start_station_id end_station_name  end_station_id  \\\n",
       "0                   NaN               NaN              NaN             NaN   \n",
       "1                   NaN               NaN              NaN             NaN   \n",
       "2                   NaN               NaN              NaN             NaN   \n",
       "3  8th St at Ringold St              60.0              NaN             NaN   \n",
       "4                   NaN               NaN              NaN             NaN   \n",
       "\n",
       "   start_lat  start_lng  end_lat   end_lng member_casual  \n",
       "0    37.7692  -122.4209  37.7703 -122.4069        casual  \n",
       "1    37.8023  -122.4244  37.8023 -122.4244        casual  \n",
       "2    37.7667  -122.3961  37.7667 -122.3962        casual  \n",
       "3    37.7744  -122.4095  37.7805 -122.4033        casual  \n",
       "4    37.8027  -122.4433  37.8009 -122.4269        casual  "
      ]
     },
     "execution_count": 2,
     "metadata": {},
     "output_type": "execute_result"
    }
   ],
   "source": [
    "trip_data = pd.read_csv('baywheels_tripdata.csv')\n",
    "trip_data.head()"
   ]
  },
  {
   "cell_type": "markdown",
   "metadata": {},
   "source": [
    "### Assess\n",
    "The main objective of the Assess section is to better understand each piece of data and identify possible issues that must be cleaned."
   ]
  },
  {
   "cell_type": "code",
   "execution_count": 3,
   "metadata": {},
   "outputs": [
    {
     "data": {
      "text/html": [
       "<div>\n",
       "<style scoped>\n",
       "    .dataframe tbody tr th:only-of-type {\n",
       "        vertical-align: middle;\n",
       "    }\n",
       "\n",
       "    .dataframe tbody tr th {\n",
       "        vertical-align: top;\n",
       "    }\n",
       "\n",
       "    .dataframe thead th {\n",
       "        text-align: right;\n",
       "    }\n",
       "</style>\n",
       "<table border=\"1\" class=\"dataframe\">\n",
       "  <thead>\n",
       "    <tr style=\"text-align: right;\">\n",
       "      <th></th>\n",
       "      <th>ride_id</th>\n",
       "      <th>rideable_type</th>\n",
       "      <th>started_at</th>\n",
       "      <th>ended_at</th>\n",
       "      <th>start_station_name</th>\n",
       "      <th>start_station_id</th>\n",
       "      <th>end_station_name</th>\n",
       "      <th>end_station_id</th>\n",
       "      <th>start_lat</th>\n",
       "      <th>start_lng</th>\n",
       "      <th>end_lat</th>\n",
       "      <th>end_lng</th>\n",
       "      <th>member_casual</th>\n",
       "    </tr>\n",
       "  </thead>\n",
       "  <tbody>\n",
       "    <tr>\n",
       "      <td>40696</td>\n",
       "      <td>D1AD4A7535AF63B8</td>\n",
       "      <td>electric_bike</td>\n",
       "      <td>2020-04-16 12:45:32</td>\n",
       "      <td>2020-04-16 12:53:09</td>\n",
       "      <td>NaN</td>\n",
       "      <td>NaN</td>\n",
       "      <td>Webster St at O'Farrell St</td>\n",
       "      <td>285.0</td>\n",
       "      <td>37.7765</td>\n",
       "      <td>-122.4271</td>\n",
       "      <td>37.7833</td>\n",
       "      <td>-122.4311</td>\n",
       "      <td>member</td>\n",
       "    </tr>\n",
       "    <tr>\n",
       "      <td>59322</td>\n",
       "      <td>9399064F16C4ADCC</td>\n",
       "      <td>docked_bike</td>\n",
       "      <td>2020-04-12 12:11:19</td>\n",
       "      <td>2020-04-12 12:36:49</td>\n",
       "      <td>7th Ave at Cabrillo St</td>\n",
       "      <td>454.0</td>\n",
       "      <td>McAllister St at Baker St</td>\n",
       "      <td>52.0</td>\n",
       "      <td>37.7752</td>\n",
       "      <td>-122.4650</td>\n",
       "      <td>37.7774</td>\n",
       "      <td>-122.4418</td>\n",
       "      <td>casual</td>\n",
       "    </tr>\n",
       "    <tr>\n",
       "      <td>70874</td>\n",
       "      <td>FFDD31AF1C28880D</td>\n",
       "      <td>electric_bike</td>\n",
       "      <td>2020-04-15 18:29:17</td>\n",
       "      <td>2020-04-15 18:38:19</td>\n",
       "      <td>7th Ave at Cabrillo St</td>\n",
       "      <td>454.0</td>\n",
       "      <td>Divisadero St at Clay St</td>\n",
       "      <td>512.0</td>\n",
       "      <td>37.7751</td>\n",
       "      <td>-122.4650</td>\n",
       "      <td>37.7896</td>\n",
       "      <td>-122.4408</td>\n",
       "      <td>member</td>\n",
       "    </tr>\n",
       "    <tr>\n",
       "      <td>55462</td>\n",
       "      <td>FD3DB95D531268A2</td>\n",
       "      <td>electric_bike</td>\n",
       "      <td>2020-04-01 16:50:35</td>\n",
       "      <td>2020-04-01 17:54:54</td>\n",
       "      <td>NaN</td>\n",
       "      <td>NaN</td>\n",
       "      <td>NaN</td>\n",
       "      <td>NaN</td>\n",
       "      <td>37.7635</td>\n",
       "      <td>-122.4762</td>\n",
       "      <td>37.7636</td>\n",
       "      <td>-122.4764</td>\n",
       "      <td>member</td>\n",
       "    </tr>\n",
       "    <tr>\n",
       "      <td>51255</td>\n",
       "      <td>24F386DD99934C0E</td>\n",
       "      <td>docked_bike</td>\n",
       "      <td>2020-04-18 13:23:20</td>\n",
       "      <td>2020-04-18 14:05:51</td>\n",
       "      <td>Shattuck Ave at Hearst Ave</td>\n",
       "      <td>244.0</td>\n",
       "      <td>Shattuck Ave at Hearst Ave</td>\n",
       "      <td>244.0</td>\n",
       "      <td>37.8737</td>\n",
       "      <td>-122.2685</td>\n",
       "      <td>37.8737</td>\n",
       "      <td>-122.2685</td>\n",
       "      <td>casual</td>\n",
       "    </tr>\n",
       "  </tbody>\n",
       "</table>\n",
       "</div>"
      ],
      "text/plain": [
       "                ride_id  rideable_type           started_at  \\\n",
       "40696  D1AD4A7535AF63B8  electric_bike  2020-04-16 12:45:32   \n",
       "59322  9399064F16C4ADCC    docked_bike  2020-04-12 12:11:19   \n",
       "70874  FFDD31AF1C28880D  electric_bike  2020-04-15 18:29:17   \n",
       "55462  FD3DB95D531268A2  electric_bike  2020-04-01 16:50:35   \n",
       "51255  24F386DD99934C0E    docked_bike  2020-04-18 13:23:20   \n",
       "\n",
       "                  ended_at          start_station_name  start_station_id  \\\n",
       "40696  2020-04-16 12:53:09                         NaN               NaN   \n",
       "59322  2020-04-12 12:36:49      7th Ave at Cabrillo St             454.0   \n",
       "70874  2020-04-15 18:38:19      7th Ave at Cabrillo St             454.0   \n",
       "55462  2020-04-01 17:54:54                         NaN               NaN   \n",
       "51255  2020-04-18 14:05:51  Shattuck Ave at Hearst Ave             244.0   \n",
       "\n",
       "                 end_station_name  end_station_id  start_lat  start_lng  \\\n",
       "40696  Webster St at O'Farrell St           285.0    37.7765  -122.4271   \n",
       "59322   McAllister St at Baker St            52.0    37.7752  -122.4650   \n",
       "70874    Divisadero St at Clay St           512.0    37.7751  -122.4650   \n",
       "55462                         NaN             NaN    37.7635  -122.4762   \n",
       "51255  Shattuck Ave at Hearst Ave           244.0    37.8737  -122.2685   \n",
       "\n",
       "       end_lat   end_lng member_casual  \n",
       "40696  37.7833 -122.4311        member  \n",
       "59322  37.7774 -122.4418        casual  \n",
       "70874  37.7896 -122.4408        member  \n",
       "55462  37.7636 -122.4764        member  \n",
       "51255  37.8737 -122.2685        casual  "
      ]
     },
     "execution_count": 3,
     "metadata": {},
     "output_type": "execute_result"
    }
   ],
   "source": [
    "trip_data.sample(5)"
   ]
  },
  {
   "cell_type": "code",
   "execution_count": 4,
   "metadata": {},
   "outputs": [
    {
     "data": {
      "text/plain": [
       "(84259, 13)"
      ]
     },
     "execution_count": 4,
     "metadata": {},
     "output_type": "execute_result"
    }
   ],
   "source": [
    "trip_data.shape"
   ]
  },
  {
   "cell_type": "code",
   "execution_count": 5,
   "metadata": {},
   "outputs": [
    {
     "data": {
      "text/plain": [
       "ride_id                object\n",
       "rideable_type          object\n",
       "started_at             object\n",
       "ended_at               object\n",
       "start_station_name     object\n",
       "start_station_id      float64\n",
       "end_station_name       object\n",
       "end_station_id        float64\n",
       "start_lat             float64\n",
       "start_lng             float64\n",
       "end_lat               float64\n",
       "end_lng               float64\n",
       "member_casual          object\n",
       "dtype: object"
      ]
     },
     "execution_count": 5,
     "metadata": {},
     "output_type": "execute_result"
    }
   ],
   "source": [
    "trip_data.dtypes"
   ]
  },
  {
   "cell_type": "code",
   "execution_count": 6,
   "metadata": {},
   "outputs": [
    {
     "data": {
      "text/plain": [
       "ride_id                   0\n",
       "rideable_type             0\n",
       "started_at                0\n",
       "ended_at                  0\n",
       "start_station_name    30825\n",
       "start_station_id      30825\n",
       "end_station_name      32401\n",
       "end_station_id        32401\n",
       "start_lat                 0\n",
       "start_lng                 0\n",
       "end_lat                 142\n",
       "end_lng                 142\n",
       "member_casual             0\n",
       "dtype: int64"
      ]
     },
     "execution_count": 6,
     "metadata": {},
     "output_type": "execute_result"
    }
   ],
   "source": [
    "trip_data.isnull().sum()"
   ]
  },
  {
   "cell_type": "code",
   "execution_count": 7,
   "metadata": {},
   "outputs": [
    {
     "data": {
      "text/plain": [
       "array(['electric_bike', 'docked_bike'], dtype=object)"
      ]
     },
     "execution_count": 7,
     "metadata": {},
     "output_type": "execute_result"
    }
   ],
   "source": [
    "trip_data.rideable_type.unique()"
   ]
  },
  {
   "cell_type": "code",
   "execution_count": 8,
   "metadata": {},
   "outputs": [
    {
     "data": {
      "text/plain": [
       "array(['casual', 'member'], dtype=object)"
      ]
     },
     "execution_count": 8,
     "metadata": {},
     "output_type": "execute_result"
    }
   ],
   "source": [
    "trip_data.member_casual.unique()"
   ]
  },
  {
   "cell_type": "code",
   "execution_count": 9,
   "metadata": {},
   "outputs": [
    {
     "data": {
      "text/plain": [
       "array([nan, '8th St at Ringold St', 'Chestnut St at Van Ness Ave',\n",
       "       'Buchanan St at North Point St',\n",
       "       'Montgomery St BART Station (Market St at 2nd St)',\n",
       "       'Post St at Webster St', '4th St at 16th St',\n",
       "       'McKinnon Ave at 3rd St', 'Precita Park', 'Central Ave at Fell St',\n",
       "       'Funston Ave at Fulton St', 'Steiner St at California St',\n",
       "       'The Embarcadero at Bryant St', 'Market St at Steuart St',\n",
       "       'Leavenworth St at Broadway',\n",
       "       'Union Square (Powell St at Post St)', '10th St at Empire St',\n",
       "       'Market St at Dolores St', 'Davis St at Jackson St',\n",
       "       'Salesforce Transit Center (Natoma St at 2nd St)',\n",
       "       '4th St at Mission Bay Blvd S', '23rd St at Taylor St',\n",
       "       'Folsom St at 19th St', '15th St at Potrero Ave',\n",
       "       'Market St at 10th St', 'Jones St at Post St',\n",
       "       'Fell St at Stanyan St', 'Octavia Blvd at Page St',\n",
       "       'Eureka Valley Recreation Center', 'S Park St at 3rd St',\n",
       "       'Golden Gate Ave at Hyde St', 'Sonora Ave at 1st St',\n",
       "       '48th Ave at Cabrillo St', 'Broadway at Kearny',\n",
       "       'McAllister St at Baker St', '20th St at Bryant St',\n",
       "       'San Francisco Caltrain (Townsend St at 4th St)',\n",
       "       'Myrtle St at Polk St', 'Brannan St at Colin P Kelly Jr St',\n",
       "       '7th St at King St', '8th St at Brannan St',\n",
       "       '20th St at Dolores St', '11th St at Bryant St',\n",
       "       'Alamo Square (Steiner St at Fulton St)',\n",
       "       'Greenwich St at Webster St', 'Washington St at Kearny St',\n",
       "       'Powell St BART Station (Market St at 5th St)',\n",
       "       \"St. Joseph's Ave at Geary Blvd\", 'Folsom St at 15th St',\n",
       "       'Pierce St at Haight St', 'Empire St at 1st St',\n",
       "       'Valencia St at 21st St', 'Folsom St at 13th St',\n",
       "       'Carroll Ave at 3rd St', 'Willow St at Blewett Ave',\n",
       "       'St James St at 9th St', 'Esprit Park',\n",
       "       'Frederick St at Arguello Blvd', 'Valencia St at 22nd St',\n",
       "       'Post St at Divisadero St', 'Potrero Ave and Mariposa St',\n",
       "       'Hyde St at Post St', 'Rhode Island St at 17th St',\n",
       "       'Valencia St at 24th St', 'Bryant St at 6th St',\n",
       "       'Folsom St at 3rd St', '18th Ave at California St',\n",
       "       'San Jose City Hall', 'Golden Gate Ave at Polk St',\n",
       "       'Guerrero Park', 'Potrero del Sol Park (25th St at Utah St)',\n",
       "       'Berry St at 4th St',\n",
       "       '17th & Folsom Street Park (17th St at Folsom St)',\n",
       "       'Garfield Square (25th St at Harrison St)',\n",
       "       'Williams Ave at 3rd St', 'Autumn Parkway at Coleman Ave',\n",
       "       'San Fernando St at 7th St', 'Jackson St at Polk St',\n",
       "       'Lombard St at Columbus Ave', \"Webster St at O'Farrell St\",\n",
       "       '23rd St at Tennessee St', 'Valencia St at 16th St',\n",
       "       'Embarcadero BART Station (Beale St at Market St)',\n",
       "       '17th Ave at Geary Blvd', 'Mint St at Mission St',\n",
       "       'Mississippi St at 17th St', 'Laguna St at Hayes St',\n",
       "       '17th St at Valencia St', 'Clement St at 32nd Ave',\n",
       "       'Scott St at Golden Gate Ave', 'William St at 10th St',\n",
       "       'San Francisco Public Library (Grove St at Hyde St)',\n",
       "       'Backesto Park (Jackson St at 13th St)', 'Howard St at Beale St',\n",
       "       'Mechanics Monument Plaza (Market St at Bush St)',\n",
       "       'San Pedro St at Hedding St', 'Sanchez St at 15th St',\n",
       "       '23rd Ave at Clement St', 'Mission Playground',\n",
       "       'Broderick St at Oak St', 'Utah St at 24th St',\n",
       "       '2nd St at Townsend St', 'Valencia St at Clinton Park',\n",
       "       'San Fernando St at 4th St', 'Evans Ave at Mendell St',\n",
       "       'Civic Center/UN Plaza BART Station (Market St at McAllister St)',\n",
       "       'W Julian St at N Morrison St', '1st St at Folsom St',\n",
       "       '17th St at Dolores St', 'Raymond Kimbell Playground',\n",
       "       '11th St at Natoma St', 'Dolores St at 15th St',\n",
       "       '22nd St at Potrero Ave', 'Bay St at Fillmore St',\n",
       "       'Divisadero St at Clay St', 'Mission Bay Kids Park',\n",
       "       'Powell St BART Station (Market St at 4th St)',\n",
       "       'The Embarcadero at Vallejo St', 'Illinois St at 20th St',\n",
       "       'Mission Dolores Park', '7th Ave at Cabrillo St',\n",
       "       'Greenwich St at Franklin St', '14th St at Mission St',\n",
       "       'San Carlos St at Meridian Ave', 'Berry St at King St',\n",
       "       'Spruce St at California St', '14th Ave at Geary Blvd',\n",
       "       '29th St at Church St', '29th St at Tiffany Ave',\n",
       "       'San Francisco Ferry Building (Harry Bridges Plaza)',\n",
       "       'Fern St at Polk St', '24th St at Bartlett St',\n",
       "       'S Van Ness Ave at Market St', '10th Ave at Irving St',\n",
       "       'Arguello Blvd at Edward St', '7th Ave at Clement St',\n",
       "       'Grove St at Divisadero', 'Post St at Kearny St',\n",
       "       'Folsom St at 9th St', '19th St at Mission St',\n",
       "       'Raymond Bernal Jr Memorial Park (8th St at Hedding St)',\n",
       "       'Grove St at Masonic Ave', 'Koshland Park', 'Brannan St at 7th St',\n",
       "       '7th St at Brannan St', 'Carl St at Cole St',\n",
       "       'Turk St at Fillmore St', '1st St at San Carlos St',\n",
       "       'Natoma St at New Montgomery St', 'Sanchez St at 17th St',\n",
       "       'Jersey St at Castro St', 'Laurel St at California St',\n",
       "       'Hubbell St at 16th St', '2nd St at Julian St',\n",
       "       'Turk Blvd at Stanyan St', 'Ellis St at Pierce St',\n",
       "       'Metro Dr at Technology Dr', 'Pier 1/2 at The Embarcadero',\n",
       "       '5th St at Virginia St', 'Funston Ave at Irving St',\n",
       "       '21st St at Santa Clara St', 'McAllister St at Arguello Blvd',\n",
       "       'Green St at Van Ness St', 'Gennessee St at Monterey Blvd',\n",
       "       '22nd St Caltrain Station', 'The Embarcadero at Steuart St',\n",
       "       'Webster St at Grove St', 'Church St at Duboce Ave',\n",
       "       'Beale St at Harrison St', '3rd St at Townsend St',\n",
       "       'Folsom St at 7th St', '7th Ave at Irving St', 'Duboce Park',\n",
       "       'Randall St at Chenery St', 'Cyril Magnin St at Ellis St',\n",
       "       'Quesada Ave at 3rd St', 'Father Alfred E Boeddeker Park',\n",
       "       'Broadway at Kearny St', 'Green St at Van Ness Ave',\n",
       "       'Almaden Blvd at San Fernando St', 'Cruise Terminal at Pier 27',\n",
       "       'Masonic Ave at Turk St', 'The Embarcadero at Sansome St',\n",
       "       'Anza St at Collins St', 'Bird Ave at Coe Ave',\n",
       "       '16th St Mission BART Station 2', 'Glen Park BART Station',\n",
       "       '24th St at Chattanooga St', 'Grove St at Gough St',\n",
       "       'San Francisco Caltrain Station (King St at 4th St)',\n",
       "       'Cesar Chavez St at Dolores St', 'Frida Kahlo Way at Cloud Cir',\n",
       "       'Clement St at 32nd Avenue', 'Auzerais Ave at Lincoln Ave',\n",
       "       'Judson Ave at Gennessee St', 'San Salvador St at 9th St',\n",
       "       'Almaden Blvd at Balbach St', 'Townsend St at 5th St',\n",
       "       'Indiana St at Cesar Chavez St', 'The Embarcadero at Pier 38',\n",
       "       \"O'Farrell St at Masonic Ave\", 'Broadway at Battery St',\n",
       "       'Brannan St at 4th St', 'Asbury St at The Alameda',\n",
       "       'Pierce Ave at Market St', 'San Carlos St at 11th St',\n",
       "       'Julian St at The Alameda', '22nd St at William St',\n",
       "       'Jersey St at Church St', 'Harrison St at 17th St',\n",
       "       '17th St at Santa Clara St', 'Devine St at San Pedro St',\n",
       "       'Mendell St at Fairfax Ave', 'Spear St at Folsom St',\n",
       "       'Howard St at 6th St', 'Powell St at Columbus Ave',\n",
       "       'Jackson Playground', '18th St at Noe St', 'Howard St at 2nd St',\n",
       "       'Howard St at 8th St', 'Franklin Square',\n",
       "       'Market St at Franklin St', '5th Ave at Anza St',\n",
       "       'McCoppin St at Valencia St', 'Webster St at Clay St',\n",
       "       'Clay St at Battery St', '10th St at Mission St',\n",
       "       'Harrison St at 20th St', '9th Ave at Geary Blvd',\n",
       "       'Golden Gate Ave at Franklin St',\n",
       "       'Terry Francois Blvd at Mission Bay Blvd N',\n",
       "       '22nd St at Dolores St', 'Townsend St at 7th St',\n",
       "       'Saint James Park', '19th St at William St',\n",
       "       'Alameda St at Henry Adams St', \"Heron's Head Park\",\n",
       "       '16th St at Prosper St', 'China Basin St at 3rd St',\n",
       "       'Jennings St at Revere Ave', 'Oakdale Ave at Phelps St',\n",
       "       'Bryant St at 2nd St', 'Ryland Park',\n",
       "       'Arguello Blvd at Geary Blvd', 'Page St at Scott St',\n",
       "       'San Pedro Square', '19th St at Florida St',\n",
       "       'Newhall St at 3rd St', 'Willow St at Vine St',\n",
       "       'Commercial St at Montgomery St', 'Park Ave at Laurel Grove Ln',\n",
       "       'Park Ave at Race St', 'Sunol St at San Carlos St',\n",
       "       'Williams Ave at Apollo St', '3rd St at Keyes St',\n",
       "       'Paseo De San Antonio at 2nd St', 'N 14th St at E Santa Clara St',\n",
       "       'The Alameda at Bush St', 'Kerley Dr at Rosemary St',\n",
       "       'Illinois St at Cesar Chavez St', 'Columbia Ave at Bird Ave',\n",
       "       'Terry Francois Blvd at Warriors Way',\n",
       "       \"O'Farrell St at Divisadero St\", 'Mercado Way at Sierra Rd',\n",
       "       'Folsom St at 5th St', 'Division St at Potrero Ave',\n",
       "       'Bryant St at 15th St', 'Julian St at 6th St',\n",
       "       'Santa Clara St at Almaden Blvd', 'Battery St at Filbert St',\n",
       "       'Parkmoor Ave at Race St', 'Clara St at 4th St', 'SAP Center',\n",
       "       '4th St at San Carlos St', '30th St at San Jose Ave',\n",
       "       'Valencia St at Cesar Chavez St', 'Delmas Ave and San Fernando St',\n",
       "       'Folsom St at 2nd St', 'Parker Ave at McAllister St',\n",
       "       'Market St at Park St', 'Otis St at Brady St',\n",
       "       'Yerba Buena Center for the Arts (Howard St at 3rd St)',\n",
       "       'San Jose Diridon Station', '4th St at Harrison St',\n",
       "       'Taylor St at 9th St', 'San Carlos St at Market St',\n",
       "       'Bestor Art Park', 'Lane St at Revere Ave', '16th St Mission BART',\n",
       "       'Fountain Alley at S 2nd St', 'Cahill Park',\n",
       "       'Funston Ave at Clement St',\n",
       "       'Auzerais Ave at Los Gatos Creek Trail', 'Irwin St at 8th St',\n",
       "       'Newbury Park Dr at King Rd', 'Santa Clara St at 7th St',\n",
       "       'Mission St at 1st St', 'Gish Rd at 1st St', '7th St at Empire St',\n",
       "       'Bay Pl at Vernon St', 'College Ave at Alcatraz Ave',\n",
       "       'MacArthur Blvd at Telegraph Ave', 'Goettingen St at Bacon St',\n",
       "       'Victoria Manalo Draves Park', 'George St at 1st St',\n",
       "       'Channing Way at Shattuck Ave', 'Telegraph Ave at Carleton St',\n",
       "       'Derby St at College Ave', 'Hearst Ave at Euclid Ave',\n",
       "       'Stanford Ave at Hollis St', 'Rockridge BART Station',\n",
       "       'Berkeley Civic Center', 'Emeryville Town Hall',\n",
       "       'Vine St at Shattuck Ave', 'Shattuck Ave at 55th St',\n",
       "       'Shattuck Ave at 51st St', 'Evans Ave at Newhall St',\n",
       "       'Balboa Park BART Station', 'Jackson St at 5th St',\n",
       "       'Palm St at Willow St', '5th St at San Salvador St',\n",
       "       'MLK Jr Way at University Ave', 'Haste St at College Ave',\n",
       "       '65th St at Hollis St', 'Snow Park', 'Addison St at Fourth St',\n",
       "       'Alcatraz Ave at Shattuck Ave', 'Downtown Berkeley BART',\n",
       "       'Doyle St at 59th St', 'DeFremery Park',\n",
       "       'Telegraph Ave at 19th St', '2nd Ave at E 18th St',\n",
       "       'Shattuck Ave at Hearst Ave', 'Grand Ave at Webster St',\n",
       "       '9th St at San Fernando St', 'Locust St at Grant St',\n",
       "       'Skyport Dr at Technology Dr', 'El Embarcadero at Grand Ave',\n",
       "       'Genoa St at 55th St', 'Ninth St at Heinz Ave',\n",
       "       'Franklin St at 9th St', 'Telegraph Ave at 23rd St',\n",
       "       'Frank H Ogawa Plaza', 'Broadway at 30th St',\n",
       "       'Grand Ave at Santa Clara Ave', 'MacArthur BART Station',\n",
       "       'College Ave at Harwood Ave', 'Ashby BART Station',\n",
       "       'Harmon St at Adeline St', 'Horton St at 40th St',\n",
       "       '47th St at San Pablo Ave', 'Lakeside Dr at 14th St',\n",
       "       '49th St at Telegraph Ave', 'Telegraph Ave at Alcatraz Ave',\n",
       "       'MLK Jr Way at 14th St', '23rd Ave at Foothill Blvd',\n",
       "       'Shattuck Ave at Telegraph Ave', 'Madison St at 17th St',\n",
       "       '10th St at University Ave', 'Fulton St at Bancroft Way',\n",
       "       'San Pablo Park', '24th St at Market St',\n",
       "       'University Ave at Oxford St', 'Adeline St at 40th St',\n",
       "       'Bancroft Way at College Ave', 'Jack London Square',\n",
       "       'Lakeshore Ave at Trestle Glen Rd', 'Egbert Ave at Jennings St',\n",
       "       'Bancroft Way at Telegraph Ave', 'Emeryville Public Market',\n",
       "       'Telegraph Ave at Ashby Ave', 'Fifth St at Delaware St',\n",
       "       'Woolsey St at Sacramento St', 'Ninth St at Parker St',\n",
       "       'Union St at 10th St', '21st St at 5th Ave',\n",
       "       'Grand Ave at Perkins St', 'Telegraph Ave at 27th St',\n",
       "       'Channing Way at San Pablo Ave', '14th St at Mandela Pkwy',\n",
       "       'College Ave at Taft Ave', 'Oregon St at Adeline St',\n",
       "       'Mosswood Park', 'Broadway at Coronado Ave',\n",
       "       'San Francisco City Hall (Polk St at Grove St)', '2100 Powell St',\n",
       "       '10th St at Fallon St', 'Virginia St at Shattuck Ave',\n",
       "       'Russell St at College Ave', 'Ellsworth St at Russell St',\n",
       "       '59th St at Horton St', 'Webster St at 2nd St',\n",
       "       'Market St at 8th St', '53rd St at Hollis St',\n",
       "       'Market St at 45th St', 'Isabella St at San Pablo Ave',\n",
       "       'California St at University Ave', 'Haste St at Telegraph Ave',\n",
       "       'Parker St at Fulton St', 'Lake Merritt BART Station',\n",
       "       '34th St at Telegraph Ave', 'Delmas Ave at Virginia St',\n",
       "       'Fruitvale Ave at International Blvd', 'Jackson St at 11th St',\n",
       "       'Bushrod Park', 'Market St at 40th St',\n",
       "       'West St at University Ave', 'Fruitvale BART Station',\n",
       "       '14th St at Filbert St', 'North Berkeley BART Station',\n",
       "       'Market St at Brockhurst St', 'San Pablo Ave at 27th St',\n",
       "       'Telegraph Ave at 58th St', '19th Street BART Station',\n",
       "       'West Oakland BART Station', 'Webster St at 19th St',\n",
       "       '13th St at Franklin St', 'Broadway at 40th St',\n",
       "       'San Pablo Ave at MLK Jr Way', '37th St at West St',\n",
       "       'Miles Ave at Cavour St', 'Fulton St at Ashby Ave',\n",
       "       '45th St at Manila', 'Oak St at 1st St',\n",
       "       'South San Jose State (7th St at Humboldt St)',\n",
       "       'Washington St at 8th St', 'Foothill Blvd at Fruitvale Ave',\n",
       "       'Bird Ave at Willow St', 'Stockton Ave at Lenzen Ave',\n",
       "       '5th St at Taylor St', 'West St at 40th St',\n",
       "       '27th St at MLK Jr Way',\n",
       "       '4th Ave at E 12th St (Temporary Location)',\n",
       "       '1st St at Younger Ave', '45th St at MLK Jr Way',\n",
       "       '6th Ave at E 12th St (Temporary Location)', 'Dover St at 57th St',\n",
       "       '55th St at Telegraph Ave', 'College Ave at Bryant Ave',\n",
       "       'Foothill Blvd at Harrington Ave', 'San Antonio Park',\n",
       "       '16th Depot Bike Fleet Station', '16th St Depot',\n",
       "       '10th Ave at E 15th St', 'Bond St at High St'], dtype=object)"
      ]
     },
     "execution_count": 9,
     "metadata": {},
     "output_type": "execute_result"
    }
   ],
   "source": [
    "trip_data.start_station_name.unique()"
   ]
  },
  {
   "cell_type": "code",
   "execution_count": 10,
   "metadata": {},
   "outputs": [
    {
     "data": {
      "text/plain": [
       "array([nan, '4th St at 16th St',\n",
       "       'Montgomery St BART Station (Market St at 2nd St)', 'Precita Park',\n",
       "       'Grove St at Divisadero',\n",
       "       'Garfield Square (25th St at Harrison St)',\n",
       "       'Post St at Webster St', 'Broderick St at Oak St',\n",
       "       'Central Ave at Fell St', 'Greenwich St at Franklin St',\n",
       "       '10th St at Empire St', 'Leavenworth St at Broadway',\n",
       "       'Davis St at Jackson St', '4th St at Mission Bay Blvd S',\n",
       "       'San Francisco Public Library (Grove St at Hyde St)',\n",
       "       '15th St at Potrero Ave', '23rd St at Tennessee St',\n",
       "       'Mission Playground', 'Jones St at Post St',\n",
       "       'Market St at Dolores St', 'Fell St at Stanyan St',\n",
       "       'Golden Gate Ave at Polk St', 'S Park St at 3rd St',\n",
       "       'Sonora Ave at 1st St', '20th St at Bryant St',\n",
       "       'Market St at 10th St', 'Scott St at Golden Gate Ave',\n",
       "       'Broadway at Kearny',\n",
       "       'San Francisco Caltrain (Townsend St at 4th St)',\n",
       "       '23rd St at Taylor St', 'Parker Ave at McAllister St',\n",
       "       '20th St at Dolores St', 'Grove St at Masonic Ave',\n",
       "       'Greenwich St at Webster St', 'Oakdale Ave at Phelps St',\n",
       "       'Powell St BART Station (Market St at 5th St)',\n",
       "       'Steiner St at California St', '7th Ave at Cabrillo St',\n",
       "       '11th St at Bryant St', 'Valencia St at 22nd St',\n",
       "       'Folsom St at 15th St', 'Pierce St at Haight St',\n",
       "       '16th St at Prosper St', 'Columbia Ave at Bird Ave', 'Esprit Park',\n",
       "       'Post St at Divisadero St', '8th St at Brannan St',\n",
       "       'Koshland Park', 'Potrero del Sol Park (25th St at Utah St)',\n",
       "       'Laguna St at Hayes St', \"O'Farrell St at Masonic Ave\",\n",
       "       'Hyde St at Post St', 'McAllister St at Arguello Blvd',\n",
       "       'Commercial St at Montgomery St', 'Powell St at Columbus Ave',\n",
       "       'Spruce St at California St', \"Webster St at O'Farrell St\",\n",
       "       'Washington St at Kearny St', 'Sanchez St at 17th St',\n",
       "       'Valencia St at 16th St', 'Pier 1/2 at The Embarcadero',\n",
       "       'Jackson St at Polk St', 'Mission St at 1st St',\n",
       "       'Brannan St at Colin P Kelly Jr St',\n",
       "       'San Francisco Caltrain Station (King St at 4th St)',\n",
       "       'The Embarcadero at Vallejo St', 'Myrtle St at Polk St',\n",
       "       '14th St at Mission St', '17th Ave at Geary Blvd',\n",
       "       'Mechanics Monument Plaza (Market St at Bush St)',\n",
       "       'Mint St at Mission St', 'Mississippi St at 17th St',\n",
       "       'Alamo Square (Steiner St at Fulton St)', 'Page St at Scott St',\n",
       "       'Bryant St at 6th St', '23rd Ave at Clement St',\n",
       "       'San Pedro St at Hedding St', 'Eureka Valley Recreation Center',\n",
       "       'Funston Ave at Fulton St', 'Utah St at 24th St',\n",
       "       'Hubbell St at 16th St', 'Valencia St at 21st St',\n",
       "       'Divisadero St at Clay St', 'Fern St at Polk St',\n",
       "       'Buchanan St at North Point St', 'Funston Ave at Clement St',\n",
       "       'Sanchez St at 15th St', 'The Embarcadero at Steuart St',\n",
       "       'Goettingen St at Bacon St', '11th St at Natoma St',\n",
       "       'Irwin St at 8th St', 'Rhode Island St at 17th St', 'Duboce Park',\n",
       "       'Howard St at Beale St', '22nd St Caltrain Station',\n",
       "       '5th Ave at Anza St', 'Randall St at Chenery St',\n",
       "       '48th Ave at Cabrillo St', 'The Embarcadero at Sansome St',\n",
       "       'Mission Dolores Park',\n",
       "       'San Francisco Ferry Building (Harry Bridges Plaza)',\n",
       "       'Valencia St at Cesar Chavez St',\n",
       "       'Powell St BART Station (Market St at 4th St)',\n",
       "       'Union Square (Powell St at Post St)',\n",
       "       'S Van Ness Ave at Market St', 'Howard St at 8th St',\n",
       "       'Arguello Blvd at Edward St', '19th St at Mission St',\n",
       "       'Illinois St at 20th St', '9th Ave at Geary Blvd',\n",
       "       'Raymond Kimbell Playground', '18th Ave at California St',\n",
       "       '8th St at Ringold St', 'Post St at Kearny St',\n",
       "       'William St at 10th St', 'The Alameda at Bush St',\n",
       "       'Bay St at Fillmore St', 'Spear St at Folsom St',\n",
       "       'Berry St at King St', '7th St at Brannan St',\n",
       "       'Carl St at Cole St', '1st St at San Carlos St',\n",
       "       'Natoma St at New Montgomery St', 'Williams Ave at Apollo St',\n",
       "       'Frederick St at Arguello Blvd', 'Brannan St at 4th St',\n",
       "       '17th & Folsom Street Park (17th St at Folsom St)',\n",
       "       'Octavia Blvd at Page St', \"St. Joseph's Ave at Geary Blvd\",\n",
       "       '2nd St at Julian St', 'Dolores St at 15th St',\n",
       "       'Funston Ave at Irving St', '10th Ave at Irving St',\n",
       "       'Webster St at Clay St', 'Brannan St at 7th St',\n",
       "       'Market St at Steuart St', 'Glen Park BART Station',\n",
       "       '7th Ave at Irving St', 'Beale St at Harrison St',\n",
       "       'Folsom St at 3rd St', '3rd St at Townsend St',\n",
       "       'Valencia St at 24th St', 'Folsom St at 9th St',\n",
       "       'Cyril Magnin St at Ellis St', 'Green St at Van Ness St',\n",
       "       'Julian St at The Alameda', 'San Jose City Hall',\n",
       "       'Berry St at 4th St', 'Church St at Duboce Ave',\n",
       "       'Broadway at Kearny St', 'Willow St at Vine St',\n",
       "       'Green St at Van Ness Ave', 'San Fernando St at 4th St',\n",
       "       'Cruise Terminal at Pier 27', 'St James St at 9th St',\n",
       "       '16th St Mission BART Station 2', 'Anza St at Collins St',\n",
       "       'Potrero Ave and Mariposa St', '17th St at Dolores St',\n",
       "       'Mission Bay Kids Park', 'Frida Kahlo Way at Cloud Cir',\n",
       "       'Clement St at 32nd Avenue', 'Parkmoor Ave at Race St',\n",
       "       'Folsom St at 7th St', 'Judson Ave at Gennessee St',\n",
       "       'Arguello Blvd at Geary Blvd', '30th St at San Jose Ave',\n",
       "       'Chestnut St at Van Ness Ave', '17th St at Valencia St',\n",
       "       '5th St at Virginia St', 'McAllister St at Baker St',\n",
       "       'Webster St at Grove St', 'Laurel St at California St',\n",
       "       'Harrison St at 17th St', 'Jersey St at Church St',\n",
       "       '17th St at Santa Clara St', 'Folsom St at 2nd St',\n",
       "       'Turk St at Fillmore St', '19th St at Florida St',\n",
       "       'Mendell St at Fairfax Ave', 'Devine St at San Pedro St',\n",
       "       'San Carlos St at Meridian Ave', 'Jackson Playground',\n",
       "       '1st St at Folsom St', 'Victoria Manalo Draves Park',\n",
       "       'Townsend St at 5th St', 'Park Ave at Race St',\n",
       "       'Bryant St at 15th St', '24th St at Chattanooga St',\n",
       "       'Yerba Buena Center for the Arts (Howard St at 3rd St)',\n",
       "       'Market St at Franklin St', '7th Ave at Clement St',\n",
       "       'San Fernando St at 7th St', '22nd St at Potrero Ave',\n",
       "       'Folsom St at 5th St', 'Grove St at Gough St',\n",
       "       'Raymond Bernal Jr Memorial Park (8th St at Hedding St)',\n",
       "       '18th St at Noe St', 'Terry Francois Blvd at Mission Bay Blvd N',\n",
       "       'Lombard St at Columbus Ave', 'Golden Gate Ave at Hyde St',\n",
       "       'Cahill Park', 'Alameda St at Henry Adams St',\n",
       "       'Embarcadero BART Station (Beale St at Market St)',\n",
       "       'Cesar Chavez St at Dolores St',\n",
       "       'Civic Center/UN Plaza BART Station (Market St at McAllister St)',\n",
       "       'Autumn Parkway at Coleman Ave', '2nd St at Townsend St',\n",
       "       'The Embarcadero at Pier 38', '29th St at Tiffany Ave',\n",
       "       'Townsend St at 7th St', 'Jersey St at Castro St',\n",
       "       '5th St at San Salvador St', 'Clara St at 4th St',\n",
       "       'Jennings St at Revere Ave', 'Harrison St at 20th St',\n",
       "       'Franklin Square', '24th St at Bartlett St',\n",
       "       'Father Alfred E Boeddeker Park', 'Clay St at Battery St',\n",
       "       '14th Ave at Geary Blvd', 'San Carlos St at Market St',\n",
       "       'Newhall St at 3rd St', 'Williams Ave at 3rd St',\n",
       "       'Pierce Ave at Market St', '29th St at Church St',\n",
       "       'China Basin St at 3rd St', 'Terry Francois Blvd at Warriors Way',\n",
       "       'Clement St at 32nd Ave', 'Park Ave at Laurel Grove Ln',\n",
       "       'McKinnon Ave at 3rd St', 'Paseo De San Antonio at 2nd St',\n",
       "       '10th St at Mission St', 'Sunol St at San Carlos St',\n",
       "       'N 14th St at E Santa Clara St', 'San Pedro Square',\n",
       "       'Howard St at 6th St', 'Golden Gate Ave at Franklin St',\n",
       "       'Illinois St at Cesar Chavez St', 'Broadway at Battery St',\n",
       "       'Masonic Ave at Turk St', '22nd St at William St',\n",
       "       'Valencia St at Clinton Park', 'Fountain Alley at S 2nd St',\n",
       "       'The Embarcadero at Bryant St', '22nd St at Dolores St',\n",
       "       'McCoppin St at Valencia St', 'Folsom St at 13th St',\n",
       "       'Locust St at Grant St', 'San Salvador St at 9th St',\n",
       "       'Ellis St at Pierce St', 'Division St at Potrero Ave',\n",
       "       'Folsom St at 19th St', 'Taylor St at 9th St',\n",
       "       'Battery St at Filbert St', 'Lane St at Revere Ave',\n",
       "       'W Julian St at N Morrison St', 'Almaden Blvd at Balbach St',\n",
       "       \"O'Farrell St at Divisadero St\", 'Willow St at Blewett Ave',\n",
       "       'Quesada Ave at 3rd St', 'Delmas Ave and San Fernando St',\n",
       "       'Bryant St at 2nd St', \"Heron's Head Park\",\n",
       "       'Santa Clara St at Almaden Blvd',\n",
       "       'Almaden Blvd at San Fernando St', '19th St at William St',\n",
       "       'Market St at Park St', 'Backesto Park (Jackson St at 13th St)',\n",
       "       'Indiana St at Cesar Chavez St', 'Ryland Park',\n",
       "       '3rd St at Keyes St', 'Gennessee St at Monterey Blvd',\n",
       "       'Evans Ave at Newhall St',\n",
       "       'Salesforce Transit Center (Natoma St at 2nd St)', 'SAP Center',\n",
       "       'San Carlos St at 11th St', 'Guerrero Park', 'Otis St at Brady St',\n",
       "       'Balboa Park BART Station', 'Bird Ave at Coe Ave',\n",
       "       'Bestor Art Park', 'Asbury St at The Alameda',\n",
       "       'San Jose Diridon Station', 'Turk Blvd at Stanyan St',\n",
       "       '4th St at Harrison St', 'Howard St at 2nd St',\n",
       "       'Auzerais Ave at Los Gatos Creek Trail',\n",
       "       'Mercado Way at Sierra Rd', 'Metro Dr at Technology Dr',\n",
       "       '7th St at King St', 'Jackson St at 5th St',\n",
       "       'Evans Ave at Mendell St', '9th St at San Fernando St',\n",
       "       'Oak St at 1st St', '7th St at Empire St', 'Bay Pl at Vernon St',\n",
       "       'Harmon St at Adeline St', 'MacArthur Blvd at Telegraph Ave',\n",
       "       'Gish Rd at 1st St', 'Santa Clara St at 7th St',\n",
       "       'Julian St at 6th St', 'Channing Way at San Pablo Ave',\n",
       "       'Channing Way at Shattuck Ave', 'West St at University Ave',\n",
       "       'California St at University Ave',\n",
       "       'Lakeshore Ave at Trestle Glen Rd', 'Newbury Park Dr at King Rd',\n",
       "       'Derby St at College Ave', 'Emeryville Town Hall',\n",
       "       'Shattuck Ave at 55th St', '2nd Ave at E 18th St',\n",
       "       'San Francisco City Hall (Polk St at Grove St)',\n",
       "       '4th St at San Carlos St', 'George St at 1st St',\n",
       "       'Carroll Ave at 3rd St', '16th St Mission BART',\n",
       "       'Vine St at Shattuck Ave', 'Fulton St at Ashby Ave',\n",
       "       '65th St at Hollis St', 'Shattuck Ave at 51st St',\n",
       "       'Addison St at Fourth St', 'Alcatraz Ave at Shattuck Ave',\n",
       "       'College Ave at Taft Ave', 'San Pablo Park', 'Saint James Park',\n",
       "       'MLK Jr Way at 14th St', 'Horton St at 40th St', 'Snow Park',\n",
       "       'Doyle St at 59th St', 'El Embarcadero at Grand Ave',\n",
       "       'Kerley Dr at Rosemary St', 'Genoa St at 55th St',\n",
       "       'Ninth St at Heinz Ave', '14th St at Mandela Pkwy',\n",
       "       'Virginia St at Shattuck Ave', 'Berkeley Civic Center',\n",
       "       'San Pablo Ave at 27th St', 'Haste St at Telegraph Ave',\n",
       "       '47th St at San Pablo Ave', 'Union St at 10th St',\n",
       "       '45th St at Manila', '14th St at Filbert St',\n",
       "       '19th Street BART Station', 'Adeline St at 40th St',\n",
       "       'Market St at 45th St', '23rd Ave at Foothill Blvd',\n",
       "       'San Antonio Park', 'Shattuck Ave at Telegraph Ave',\n",
       "       'Stanford Ave at Hollis St', 'Market St at 40th St',\n",
       "       'Frank H Ogawa Plaza', '10th St at University Ave',\n",
       "       'Fulton St at Bancroft Way', 'Telegraph Ave at 19th St',\n",
       "       'University Ave at Oxford St', '24th St at Market St',\n",
       "       'Bancroft Way at College Ave', 'Russell St at College Ave',\n",
       "       'Egbert Ave at Jennings St', 'Oregon St at Adeline St',\n",
       "       'Emeryville Public Market', 'Woolsey St at Sacramento St',\n",
       "       'Ninth St at Parker St', 'Broadway at 30th St',\n",
       "       'Telegraph Ave at Carleton St', 'North Berkeley BART Station',\n",
       "       'Franklin St at 9th St', 'Telegraph Ave at 23rd St',\n",
       "       '37th St at West St', 'MLK Jr Way at University Ave',\n",
       "       'Hearst Ave at Euclid Ave', 'Auzerais Ave at Lincoln Ave',\n",
       "       'Mosswood Park', 'Grand Ave at Webster St',\n",
       "       'Grand Ave at Perkins St', 'Parker St at Fulton St',\n",
       "       '59th St at Horton St', 'Grand Ave at Santa Clara Ave',\n",
       "       'Market St at Brockhurst St', 'Telegraph Ave at Ashby Ave',\n",
       "       'San Jose Depot', '21st St at Santa Clara St', '2100 Powell St',\n",
       "       'Webster St at 2nd St', 'Ellsworth St at Russell St',\n",
       "       'Bancroft Way at Telegraph Ave', 'Rockridge BART Station',\n",
       "       '53rd St at Hollis St', '34th St at Telegraph Ave',\n",
       "       'Skyport Dr at Technology Dr', 'College Ave at Bryant Ave',\n",
       "       'Fifth St at Delaware St', 'Isabella St at San Pablo Ave',\n",
       "       '49th St at Telegraph Ave', 'Jackson St at 11th St',\n",
       "       'Miles Ave at Cavour St', 'Lake Merritt BART Station',\n",
       "       'College Ave at Alcatraz Ave', 'West Oakland BART Station',\n",
       "       '10th St at Fallon St', 'Jack London Square',\n",
       "       'Delmas Ave at Virginia St', 'Foothill Blvd at Fruitvale Ave',\n",
       "       'Madison St at 17th St', 'Dover St at 57th St',\n",
       "       'Telegraph Ave at 27th St', '13th St at Franklin St',\n",
       "       'Haste St at College Ave', 'MacArthur BART Station',\n",
       "       'Bushrod Park', 'Market St at 8th St', 'Lakeside Dr at 14th St',\n",
       "       '55th St at Telegraph Ave',\n",
       "       '4th Ave at E 12th St (Temporary Location)',\n",
       "       '6th Ave at E 12th St (Temporary Location)',\n",
       "       'Webster St at 19th St', '16th St Depot', 'Downtown Berkeley BART',\n",
       "       '21st St at 5th Ave', 'Ashby BART Station',\n",
       "       'San Pablo Ave at MLK Jr Way', 'Broadway at 40th St',\n",
       "       'South San Jose State (7th St at Humboldt St)',\n",
       "       'Shattuck Ave at Hearst Ave', 'Palm St at Willow St',\n",
       "       'Washington St at 8th St', 'Stockton Ave at Lenzen Ave',\n",
       "       'Fruitvale BART Station', 'Bird Ave at Willow St',\n",
       "       '45th St at MLK Jr Way', 'College Ave at Harwood Ave',\n",
       "       'West St at 40th St', 'Broadway at Coronado Ave',\n",
       "       'Empire St at 1st St', '27th St at MLK Jr Way', 'DeFremery Park',\n",
       "       'Fruitvale Ave at International Blvd', '1st St at Younger Ave',\n",
       "       'Foothill Blvd at Harrington Ave', 'Telegraph Ave at Alcatraz Ave',\n",
       "       '5th St at Taylor St', 'Telegraph Ave at 58th St',\n",
       "       '16th Depot Bike Fleet Station', '10th Ave at E 15th St'],\n",
       "      dtype=object)"
      ]
     },
     "execution_count": 10,
     "metadata": {},
     "output_type": "execute_result"
    }
   ],
   "source": [
    "trip_data.end_station_name.unique()"
   ]
  },
  {
   "cell_type": "code",
   "execution_count": 11,
   "metadata": {},
   "outputs": [
    {
     "data": {
      "text/plain": [
       "'2020-04-04 08:28:20'"
      ]
     },
     "execution_count": 11,
     "metadata": {},
     "output_type": "execute_result"
    }
   ],
   "source": [
    "trip_data.started_at.iloc[0]"
   ]
  },
  {
   "cell_type": "markdown",
   "metadata": {},
   "source": [
    "#### Observed Issues"
   ]
  },
  {
   "cell_type": "markdown",
   "metadata": {},
   "source": [
    "1. Missing data in **station columns** and **end coordinates**.\n",
    "2. **Date columns** are strings instead of datetime.\n",
    "3. The column name **\"member_casual\"** does not match the column values, since the column is representing the user account type.\n",
    "4. There are some unhelpful columns for the scope of this analysis."
   ]
  },
  {
   "cell_type": "markdown",
   "metadata": {},
   "source": [
    "### Clean\n",
    "Here I will be defining and executing programmatic solutions for each identified issue in the Assess section, as well as testing whether the proposed solution solved the problem or not."
   ]
  },
  {
   "cell_type": "markdown",
   "metadata": {},
   "source": [
    "#### Define\n",
    "1. The missing stations will be filled with **\"Not informed\"** values, while the coordinates columns will not be filled as they do not belong to the scope of this analysis.\n",
    "2. Use the pandas [to_datetime()](https://pandas.pydata.org/pandas-docs/stable/reference/api/pandas.to_datetime.html) method to convert column values to datetime.\n",
    "3. Rename column to **\"account_type\"**.\n",
    "4. Drop `ride_id`, `start_station_id`, `end_station_id`, `start_lat`, `start_lng`, `end_lat` and `end_lng` columns."
   ]
  },
  {
   "cell_type": "markdown",
   "metadata": {},
   "source": [
    "#### Code and Test\n",
    "Here I will be using code techniques to clean up the data as planned in the **Define** section."
   ]
  },
  {
   "cell_type": "code",
   "execution_count": 12,
   "metadata": {},
   "outputs": [],
   "source": [
    "clean_trip_data = trip_data.copy()"
   ]
  },
  {
   "cell_type": "code",
   "execution_count": 13,
   "metadata": {},
   "outputs": [
    {
     "data": {
      "text/html": [
       "<div>\n",
       "<style scoped>\n",
       "    .dataframe tbody tr th:only-of-type {\n",
       "        vertical-align: middle;\n",
       "    }\n",
       "\n",
       "    .dataframe tbody tr th {\n",
       "        vertical-align: top;\n",
       "    }\n",
       "\n",
       "    .dataframe thead th {\n",
       "        text-align: right;\n",
       "    }\n",
       "</style>\n",
       "<table border=\"1\" class=\"dataframe\">\n",
       "  <thead>\n",
       "    <tr style=\"text-align: right;\">\n",
       "      <th></th>\n",
       "      <th>rideable_type</th>\n",
       "      <th>started_at</th>\n",
       "      <th>ended_at</th>\n",
       "      <th>start_station_name</th>\n",
       "      <th>end_station_name</th>\n",
       "      <th>member_casual</th>\n",
       "    </tr>\n",
       "  </thead>\n",
       "  <tbody>\n",
       "    <tr>\n",
       "      <td>0</td>\n",
       "      <td>electric_bike</td>\n",
       "      <td>2020-04-04 08:28:20</td>\n",
       "      <td>2020-04-04 08:33:34</td>\n",
       "      <td>NaN</td>\n",
       "      <td>NaN</td>\n",
       "      <td>casual</td>\n",
       "    </tr>\n",
       "    <tr>\n",
       "      <td>1</td>\n",
       "      <td>electric_bike</td>\n",
       "      <td>2020-04-03 18:55:43</td>\n",
       "      <td>2020-04-03 19:21:05</td>\n",
       "      <td>NaN</td>\n",
       "      <td>NaN</td>\n",
       "      <td>casual</td>\n",
       "    </tr>\n",
       "    <tr>\n",
       "      <td>2</td>\n",
       "      <td>electric_bike</td>\n",
       "      <td>2020-04-04 15:11:04</td>\n",
       "      <td>2020-04-04 15:12:21</td>\n",
       "      <td>NaN</td>\n",
       "      <td>NaN</td>\n",
       "      <td>casual</td>\n",
       "    </tr>\n",
       "    <tr>\n",
       "      <td>3</td>\n",
       "      <td>electric_bike</td>\n",
       "      <td>2020-04-03 20:21:03</td>\n",
       "      <td>2020-04-03 22:08:06</td>\n",
       "      <td>8th St at Ringold St</td>\n",
       "      <td>NaN</td>\n",
       "      <td>casual</td>\n",
       "    </tr>\n",
       "    <tr>\n",
       "      <td>4</td>\n",
       "      <td>electric_bike</td>\n",
       "      <td>2020-04-03 18:39:39</td>\n",
       "      <td>2020-04-03 18:47:19</td>\n",
       "      <td>NaN</td>\n",
       "      <td>NaN</td>\n",
       "      <td>casual</td>\n",
       "    </tr>\n",
       "  </tbody>\n",
       "</table>\n",
       "</div>"
      ],
      "text/plain": [
       "   rideable_type           started_at             ended_at  \\\n",
       "0  electric_bike  2020-04-04 08:28:20  2020-04-04 08:33:34   \n",
       "1  electric_bike  2020-04-03 18:55:43  2020-04-03 19:21:05   \n",
       "2  electric_bike  2020-04-04 15:11:04  2020-04-04 15:12:21   \n",
       "3  electric_bike  2020-04-03 20:21:03  2020-04-03 22:08:06   \n",
       "4  electric_bike  2020-04-03 18:39:39  2020-04-03 18:47:19   \n",
       "\n",
       "     start_station_name end_station_name member_casual  \n",
       "0                   NaN              NaN        casual  \n",
       "1                   NaN              NaN        casual  \n",
       "2                   NaN              NaN        casual  \n",
       "3  8th St at Ringold St              NaN        casual  \n",
       "4                   NaN              NaN        casual  "
      ]
     },
     "execution_count": 13,
     "metadata": {},
     "output_type": "execute_result"
    }
   ],
   "source": [
    "clean_trip_data.drop(['ride_id', 'start_station_id', \n",
    "                      'end_station_id', 'start_lat', \n",
    "                      'start_lng', 'end_lat', 'end_lng'], axis=1, inplace=True)\n",
    "clean_trip_data.head()"
   ]
  },
  {
   "cell_type": "code",
   "execution_count": 14,
   "metadata": {},
   "outputs": [
    {
     "data": {
      "text/plain": [
       "rideable_type         0\n",
       "started_at            0\n",
       "ended_at              0\n",
       "start_station_name    0\n",
       "end_station_name      0\n",
       "member_casual         0\n",
       "dtype: int64"
      ]
     },
     "execution_count": 14,
     "metadata": {},
     "output_type": "execute_result"
    }
   ],
   "source": [
    "clean_trip_data.fillna('None', inplace=True)\n",
    "clean_trip_data.isnull().sum()"
   ]
  },
  {
   "cell_type": "code",
   "execution_count": 15,
   "metadata": {},
   "outputs": [
    {
     "data": {
      "text/plain": [
       "Timestamp('2020-04-04 08:28:20')"
      ]
     },
     "execution_count": 15,
     "metadata": {},
     "output_type": "execute_result"
    }
   ],
   "source": [
    "clean_trip_data['started_at'] = pd.to_datetime(clean_trip_data.started_at)\n",
    "clean_trip_data['ended_at'] = pd.to_datetime(clean_trip_data.ended_at)\n",
    "clean_trip_data.started_at.iloc[0]"
   ]
  },
  {
   "cell_type": "code",
   "execution_count": 16,
   "metadata": {},
   "outputs": [
    {
     "data": {
      "text/html": [
       "<div>\n",
       "<style scoped>\n",
       "    .dataframe tbody tr th:only-of-type {\n",
       "        vertical-align: middle;\n",
       "    }\n",
       "\n",
       "    .dataframe tbody tr th {\n",
       "        vertical-align: top;\n",
       "    }\n",
       "\n",
       "    .dataframe thead th {\n",
       "        text-align: right;\n",
       "    }\n",
       "</style>\n",
       "<table border=\"1\" class=\"dataframe\">\n",
       "  <thead>\n",
       "    <tr style=\"text-align: right;\">\n",
       "      <th></th>\n",
       "      <th>rideable_type</th>\n",
       "      <th>started_at</th>\n",
       "      <th>ended_at</th>\n",
       "      <th>start_station_name</th>\n",
       "      <th>end_station_name</th>\n",
       "      <th>account_type</th>\n",
       "    </tr>\n",
       "  </thead>\n",
       "  <tbody>\n",
       "    <tr>\n",
       "      <td>70630</td>\n",
       "      <td>docked_bike</td>\n",
       "      <td>2020-04-04 13:08:05</td>\n",
       "      <td>2020-04-04 13:29:32</td>\n",
       "      <td>Market St at Steuart St</td>\n",
       "      <td>Grove St at Gough St</td>\n",
       "      <td>casual</td>\n",
       "    </tr>\n",
       "    <tr>\n",
       "      <td>48378</td>\n",
       "      <td>electric_bike</td>\n",
       "      <td>2020-04-10 12:39:08</td>\n",
       "      <td>2020-04-10 12:57:49</td>\n",
       "      <td>19th St at Mission St</td>\n",
       "      <td>1st St at Folsom St</td>\n",
       "      <td>member</td>\n",
       "    </tr>\n",
       "    <tr>\n",
       "      <td>30007</td>\n",
       "      <td>electric_bike</td>\n",
       "      <td>2020-04-16 18:43:33</td>\n",
       "      <td>2020-04-16 18:57:14</td>\n",
       "      <td>None</td>\n",
       "      <td>None</td>\n",
       "      <td>casual</td>\n",
       "    </tr>\n",
       "    <tr>\n",
       "      <td>62418</td>\n",
       "      <td>docked_bike</td>\n",
       "      <td>2020-04-10 15:36:54</td>\n",
       "      <td>2020-04-10 15:58:19</td>\n",
       "      <td>Mission Dolores Park</td>\n",
       "      <td>Mission Bay Kids Park</td>\n",
       "      <td>casual</td>\n",
       "    </tr>\n",
       "    <tr>\n",
       "      <td>67038</td>\n",
       "      <td>docked_bike</td>\n",
       "      <td>2020-04-13 13:56:59</td>\n",
       "      <td>2020-04-13 13:59:40</td>\n",
       "      <td>O'Farrell St at Masonic Ave</td>\n",
       "      <td>O'Farrell St at Masonic Ave</td>\n",
       "      <td>member</td>\n",
       "    </tr>\n",
       "  </tbody>\n",
       "</table>\n",
       "</div>"
      ],
      "text/plain": [
       "       rideable_type          started_at            ended_at  \\\n",
       "70630    docked_bike 2020-04-04 13:08:05 2020-04-04 13:29:32   \n",
       "48378  electric_bike 2020-04-10 12:39:08 2020-04-10 12:57:49   \n",
       "30007  electric_bike 2020-04-16 18:43:33 2020-04-16 18:57:14   \n",
       "62418    docked_bike 2020-04-10 15:36:54 2020-04-10 15:58:19   \n",
       "67038    docked_bike 2020-04-13 13:56:59 2020-04-13 13:59:40   \n",
       "\n",
       "                start_station_name             end_station_name account_type  \n",
       "70630      Market St at Steuart St         Grove St at Gough St       casual  \n",
       "48378        19th St at Mission St          1st St at Folsom St       member  \n",
       "30007                         None                         None       casual  \n",
       "62418         Mission Dolores Park        Mission Bay Kids Park       casual  \n",
       "67038  O'Farrell St at Masonic Ave  O'Farrell St at Masonic Ave       member  "
      ]
     },
     "execution_count": 16,
     "metadata": {},
     "output_type": "execute_result"
    }
   ],
   "source": [
    "clean_trip_data.rename(columns={'member_casual': 'account_type'}, inplace=True)\n",
    "clean_trip_data.sample(5)"
   ]
  },
  {
   "cell_type": "markdown",
   "metadata": {},
   "source": [
    "### Feature Engineering"
   ]
  },
  {
   "cell_type": "markdown",
   "metadata": {},
   "source": [
    "Here I'll be using the knowledge acquired by inspecting the dataframes to create new features, aiming to facilitate the exploration."
   ]
  },
  {
   "cell_type": "code",
   "execution_count": 17,
   "metadata": {},
   "outputs": [
    {
     "data": {
      "text/html": [
       "<div>\n",
       "<style scoped>\n",
       "    .dataframe tbody tr th:only-of-type {\n",
       "        vertical-align: middle;\n",
       "    }\n",
       "\n",
       "    .dataframe tbody tr th {\n",
       "        vertical-align: top;\n",
       "    }\n",
       "\n",
       "    .dataframe thead th {\n",
       "        text-align: right;\n",
       "    }\n",
       "</style>\n",
       "<table border=\"1\" class=\"dataframe\">\n",
       "  <thead>\n",
       "    <tr style=\"text-align: right;\">\n",
       "      <th></th>\n",
       "      <th>rideable_type</th>\n",
       "      <th>started_at</th>\n",
       "      <th>ended_at</th>\n",
       "      <th>start_station_name</th>\n",
       "      <th>end_station_name</th>\n",
       "      <th>account_type</th>\n",
       "      <th>started_hour</th>\n",
       "      <th>ended_hour</th>\n",
       "    </tr>\n",
       "  </thead>\n",
       "  <tbody>\n",
       "    <tr>\n",
       "      <td>61581</td>\n",
       "      <td>electric_bike</td>\n",
       "      <td>2020-04-06 12:02:52</td>\n",
       "      <td>2020-04-06 12:13:06</td>\n",
       "      <td>None</td>\n",
       "      <td>None</td>\n",
       "      <td>member</td>\n",
       "      <td>12</td>\n",
       "      <td>12</td>\n",
       "    </tr>\n",
       "    <tr>\n",
       "      <td>55456</td>\n",
       "      <td>electric_bike</td>\n",
       "      <td>2020-04-20 14:31:57</td>\n",
       "      <td>2020-04-20 14:55:20</td>\n",
       "      <td>San Fernando St at 7th St</td>\n",
       "      <td>None</td>\n",
       "      <td>member</td>\n",
       "      <td>14</td>\n",
       "      <td>14</td>\n",
       "    </tr>\n",
       "    <tr>\n",
       "      <td>5212</td>\n",
       "      <td>electric_bike</td>\n",
       "      <td>2020-04-24 11:12:50</td>\n",
       "      <td>2020-04-24 11:26:11</td>\n",
       "      <td>5th Ave at Anza St</td>\n",
       "      <td>Market St at 10th St</td>\n",
       "      <td>casual</td>\n",
       "      <td>11</td>\n",
       "      <td>11</td>\n",
       "    </tr>\n",
       "    <tr>\n",
       "      <td>83905</td>\n",
       "      <td>docked_bike</td>\n",
       "      <td>2020-04-30 20:24:40</td>\n",
       "      <td>2020-04-30 22:59:04</td>\n",
       "      <td>Clara St at 4th St</td>\n",
       "      <td>Clara St at 4th St</td>\n",
       "      <td>casual</td>\n",
       "      <td>20</td>\n",
       "      <td>22</td>\n",
       "    </tr>\n",
       "    <tr>\n",
       "      <td>70454</td>\n",
       "      <td>docked_bike</td>\n",
       "      <td>2020-04-25 14:34:14</td>\n",
       "      <td>2020-04-25 15:14:50</td>\n",
       "      <td>Central Ave at Fell St</td>\n",
       "      <td>48th Ave at Cabrillo St</td>\n",
       "      <td>member</td>\n",
       "      <td>14</td>\n",
       "      <td>15</td>\n",
       "    </tr>\n",
       "  </tbody>\n",
       "</table>\n",
       "</div>"
      ],
      "text/plain": [
       "       rideable_type          started_at            ended_at  \\\n",
       "61581  electric_bike 2020-04-06 12:02:52 2020-04-06 12:13:06   \n",
       "55456  electric_bike 2020-04-20 14:31:57 2020-04-20 14:55:20   \n",
       "5212   electric_bike 2020-04-24 11:12:50 2020-04-24 11:26:11   \n",
       "83905    docked_bike 2020-04-30 20:24:40 2020-04-30 22:59:04   \n",
       "70454    docked_bike 2020-04-25 14:34:14 2020-04-25 15:14:50   \n",
       "\n",
       "              start_station_name         end_station_name account_type  \\\n",
       "61581                       None                     None       member   \n",
       "55456  San Fernando St at 7th St                     None       member   \n",
       "5212          5th Ave at Anza St     Market St at 10th St       casual   \n",
       "83905         Clara St at 4th St       Clara St at 4th St       casual   \n",
       "70454     Central Ave at Fell St  48th Ave at Cabrillo St       member   \n",
       "\n",
       "       started_hour  ended_hour  \n",
       "61581            12          12  \n",
       "55456            14          14  \n",
       "5212             11          11  \n",
       "83905            20          22  \n",
       "70454            14          15  "
      ]
     },
     "execution_count": 17,
     "metadata": {},
     "output_type": "execute_result"
    }
   ],
   "source": [
    "clean_trip_data['started_hour'] = clean_trip_data.started_at.dt.hour\n",
    "clean_trip_data['ended_hour'] = clean_trip_data.ended_at.dt.hour\n",
    "clean_trip_data.sample(5)"
   ]
  },
  {
   "cell_type": "code",
   "execution_count": 18,
   "metadata": {},
   "outputs": [
    {
     "data": {
      "text/html": [
       "<div>\n",
       "<style scoped>\n",
       "    .dataframe tbody tr th:only-of-type {\n",
       "        vertical-align: middle;\n",
       "    }\n",
       "\n",
       "    .dataframe tbody tr th {\n",
       "        vertical-align: top;\n",
       "    }\n",
       "\n",
       "    .dataframe thead th {\n",
       "        text-align: right;\n",
       "    }\n",
       "</style>\n",
       "<table border=\"1\" class=\"dataframe\">\n",
       "  <thead>\n",
       "    <tr style=\"text-align: right;\">\n",
       "      <th></th>\n",
       "      <th>rideable_type</th>\n",
       "      <th>started_at</th>\n",
       "      <th>ended_at</th>\n",
       "      <th>start_station_name</th>\n",
       "      <th>end_station_name</th>\n",
       "      <th>account_type</th>\n",
       "      <th>started_hour</th>\n",
       "      <th>ended_hour</th>\n",
       "      <th>monthday</th>\n",
       "    </tr>\n",
       "  </thead>\n",
       "  <tbody>\n",
       "    <tr>\n",
       "      <td>30901</td>\n",
       "      <td>electric_bike</td>\n",
       "      <td>2020-04-25 16:23:58</td>\n",
       "      <td>2020-04-25 16:46:24</td>\n",
       "      <td>10th Ave at Irving St</td>\n",
       "      <td>Sanchez St at 17th St</td>\n",
       "      <td>casual</td>\n",
       "      <td>16</td>\n",
       "      <td>16</td>\n",
       "      <td>25</td>\n",
       "    </tr>\n",
       "    <tr>\n",
       "      <td>13597</td>\n",
       "      <td>electric_bike</td>\n",
       "      <td>2020-04-22 17:50:35</td>\n",
       "      <td>2020-04-22 18:08:22</td>\n",
       "      <td>None</td>\n",
       "      <td>None</td>\n",
       "      <td>casual</td>\n",
       "      <td>17</td>\n",
       "      <td>18</td>\n",
       "      <td>22</td>\n",
       "    </tr>\n",
       "    <tr>\n",
       "      <td>78940</td>\n",
       "      <td>electric_bike</td>\n",
       "      <td>2020-04-29 10:15:22</td>\n",
       "      <td>2020-04-29 10:25:27</td>\n",
       "      <td>None</td>\n",
       "      <td>Powell St BART Station (Market St at 4th St)</td>\n",
       "      <td>member</td>\n",
       "      <td>10</td>\n",
       "      <td>10</td>\n",
       "      <td>29</td>\n",
       "    </tr>\n",
       "    <tr>\n",
       "      <td>82154</td>\n",
       "      <td>docked_bike</td>\n",
       "      <td>2020-04-21 07:34:43</td>\n",
       "      <td>2020-04-21 07:47:48</td>\n",
       "      <td>The Alameda at Bush St</td>\n",
       "      <td>San Fernando St at 7th St</td>\n",
       "      <td>member</td>\n",
       "      <td>7</td>\n",
       "      <td>7</td>\n",
       "      <td>21</td>\n",
       "    </tr>\n",
       "    <tr>\n",
       "      <td>22186</td>\n",
       "      <td>electric_bike</td>\n",
       "      <td>2020-04-11 09:59:10</td>\n",
       "      <td>2020-04-11 10:05:06</td>\n",
       "      <td>None</td>\n",
       "      <td>Jackson St at Polk St</td>\n",
       "      <td>casual</td>\n",
       "      <td>9</td>\n",
       "      <td>10</td>\n",
       "      <td>11</td>\n",
       "    </tr>\n",
       "  </tbody>\n",
       "</table>\n",
       "</div>"
      ],
      "text/plain": [
       "       rideable_type          started_at            ended_at  \\\n",
       "30901  electric_bike 2020-04-25 16:23:58 2020-04-25 16:46:24   \n",
       "13597  electric_bike 2020-04-22 17:50:35 2020-04-22 18:08:22   \n",
       "78940  electric_bike 2020-04-29 10:15:22 2020-04-29 10:25:27   \n",
       "82154    docked_bike 2020-04-21 07:34:43 2020-04-21 07:47:48   \n",
       "22186  electric_bike 2020-04-11 09:59:10 2020-04-11 10:05:06   \n",
       "\n",
       "           start_station_name                              end_station_name  \\\n",
       "30901   10th Ave at Irving St                         Sanchez St at 17th St   \n",
       "13597                    None                                          None   \n",
       "78940                    None  Powell St BART Station (Market St at 4th St)   \n",
       "82154  The Alameda at Bush St                     San Fernando St at 7th St   \n",
       "22186                    None                         Jackson St at Polk St   \n",
       "\n",
       "      account_type  started_hour  ended_hour  monthday  \n",
       "30901       casual            16          16        25  \n",
       "13597       casual            17          18        22  \n",
       "78940       member            10          10        29  \n",
       "82154       member             7           7        21  \n",
       "22186       casual             9          10        11  "
      ]
     },
     "execution_count": 18,
     "metadata": {},
     "output_type": "execute_result"
    }
   ],
   "source": [
    "clean_trip_data['monthday'] = clean_trip_data.started_at.dt.day\n",
    "clean_trip_data.sample(5)"
   ]
  },
  {
   "cell_type": "code",
   "execution_count": 19,
   "metadata": {},
   "outputs": [
    {
     "data": {
      "text/html": [
       "<div>\n",
       "<style scoped>\n",
       "    .dataframe tbody tr th:only-of-type {\n",
       "        vertical-align: middle;\n",
       "    }\n",
       "\n",
       "    .dataframe tbody tr th {\n",
       "        vertical-align: top;\n",
       "    }\n",
       "\n",
       "    .dataframe thead th {\n",
       "        text-align: right;\n",
       "    }\n",
       "</style>\n",
       "<table border=\"1\" class=\"dataframe\">\n",
       "  <thead>\n",
       "    <tr style=\"text-align: right;\">\n",
       "      <th></th>\n",
       "      <th>rideable_type</th>\n",
       "      <th>started_at</th>\n",
       "      <th>ended_at</th>\n",
       "      <th>start_station_name</th>\n",
       "      <th>end_station_name</th>\n",
       "      <th>account_type</th>\n",
       "      <th>started_hour</th>\n",
       "      <th>ended_hour</th>\n",
       "      <th>monthday</th>\n",
       "      <th>weekday</th>\n",
       "    </tr>\n",
       "  </thead>\n",
       "  <tbody>\n",
       "    <tr>\n",
       "      <td>19078</td>\n",
       "      <td>electric_bike</td>\n",
       "      <td>2020-04-13 08:29:10</td>\n",
       "      <td>2020-04-13 08:35:20</td>\n",
       "      <td>None</td>\n",
       "      <td>None</td>\n",
       "      <td>casual</td>\n",
       "      <td>8</td>\n",
       "      <td>8</td>\n",
       "      <td>13</td>\n",
       "      <td>Monday</td>\n",
       "    </tr>\n",
       "    <tr>\n",
       "      <td>71510</td>\n",
       "      <td>electric_bike</td>\n",
       "      <td>2020-04-03 10:02:08</td>\n",
       "      <td>2020-04-03 10:06:14</td>\n",
       "      <td>None</td>\n",
       "      <td>None</td>\n",
       "      <td>member</td>\n",
       "      <td>10</td>\n",
       "      <td>10</td>\n",
       "      <td>3</td>\n",
       "      <td>Friday</td>\n",
       "    </tr>\n",
       "    <tr>\n",
       "      <td>38512</td>\n",
       "      <td>docked_bike</td>\n",
       "      <td>2020-04-09 18:55:27</td>\n",
       "      <td>2020-04-09 19:03:56</td>\n",
       "      <td>Pier 1/2 at The Embarcadero</td>\n",
       "      <td>Pier 1/2 at The Embarcadero</td>\n",
       "      <td>casual</td>\n",
       "      <td>18</td>\n",
       "      <td>19</td>\n",
       "      <td>9</td>\n",
       "      <td>Thursday</td>\n",
       "    </tr>\n",
       "    <tr>\n",
       "      <td>72745</td>\n",
       "      <td>docked_bike</td>\n",
       "      <td>2020-04-22 14:18:08</td>\n",
       "      <td>2020-04-22 14:46:18</td>\n",
       "      <td>48th Ave at Cabrillo St</td>\n",
       "      <td>10th Ave at Irving St</td>\n",
       "      <td>casual</td>\n",
       "      <td>14</td>\n",
       "      <td>14</td>\n",
       "      <td>22</td>\n",
       "      <td>Wednesday</td>\n",
       "    </tr>\n",
       "    <tr>\n",
       "      <td>82051</td>\n",
       "      <td>docked_bike</td>\n",
       "      <td>2020-04-08 12:41:33</td>\n",
       "      <td>2020-04-08 12:49:06</td>\n",
       "      <td>Bancroft Way at College Ave</td>\n",
       "      <td>Downtown Berkeley BART</td>\n",
       "      <td>casual</td>\n",
       "      <td>12</td>\n",
       "      <td>12</td>\n",
       "      <td>8</td>\n",
       "      <td>Wednesday</td>\n",
       "    </tr>\n",
       "  </tbody>\n",
       "</table>\n",
       "</div>"
      ],
      "text/plain": [
       "       rideable_type          started_at            ended_at  \\\n",
       "19078  electric_bike 2020-04-13 08:29:10 2020-04-13 08:35:20   \n",
       "71510  electric_bike 2020-04-03 10:02:08 2020-04-03 10:06:14   \n",
       "38512    docked_bike 2020-04-09 18:55:27 2020-04-09 19:03:56   \n",
       "72745    docked_bike 2020-04-22 14:18:08 2020-04-22 14:46:18   \n",
       "82051    docked_bike 2020-04-08 12:41:33 2020-04-08 12:49:06   \n",
       "\n",
       "                start_station_name             end_station_name account_type  \\\n",
       "19078                         None                         None       casual   \n",
       "71510                         None                         None       member   \n",
       "38512  Pier 1/2 at The Embarcadero  Pier 1/2 at The Embarcadero       casual   \n",
       "72745      48th Ave at Cabrillo St        10th Ave at Irving St       casual   \n",
       "82051  Bancroft Way at College Ave       Downtown Berkeley BART       casual   \n",
       "\n",
       "       started_hour  ended_hour  monthday    weekday  \n",
       "19078             8           8        13     Monday  \n",
       "71510            10          10         3     Friday  \n",
       "38512            18          19         9   Thursday  \n",
       "72745            14          14        22  Wednesday  \n",
       "82051            12          12         8  Wednesday  "
      ]
     },
     "execution_count": 19,
     "metadata": {},
     "output_type": "execute_result"
    }
   ],
   "source": [
    "clean_trip_data['weekday'] = clean_trip_data.started_at.dt.weekday\n",
    "clean_trip_data['weekday'] = clean_trip_data.weekday.map({0: 'Monday', 1: 'Tuesday', 2: 'Wednesday', \n",
    "                                                          3: 'Thursday', 4: 'Friday', 5: 'Saturday', 6: 'Sunday'})\n",
    "clean_trip_data.sample(5)"
   ]
  },
  {
   "cell_type": "code",
   "execution_count": 20,
   "metadata": {},
   "outputs": [
    {
     "data": {
      "text/html": [
       "<div>\n",
       "<style scoped>\n",
       "    .dataframe tbody tr th:only-of-type {\n",
       "        vertical-align: middle;\n",
       "    }\n",
       "\n",
       "    .dataframe tbody tr th {\n",
       "        vertical-align: top;\n",
       "    }\n",
       "\n",
       "    .dataframe thead th {\n",
       "        text-align: right;\n",
       "    }\n",
       "</style>\n",
       "<table border=\"1\" class=\"dataframe\">\n",
       "  <thead>\n",
       "    <tr style=\"text-align: right;\">\n",
       "      <th></th>\n",
       "      <th>rideable_type</th>\n",
       "      <th>started_at</th>\n",
       "      <th>ended_at</th>\n",
       "      <th>start_station_name</th>\n",
       "      <th>end_station_name</th>\n",
       "      <th>account_type</th>\n",
       "      <th>started_hour</th>\n",
       "      <th>ended_hour</th>\n",
       "      <th>monthday</th>\n",
       "      <th>weekday</th>\n",
       "      <th>trip_time</th>\n",
       "    </tr>\n",
       "  </thead>\n",
       "  <tbody>\n",
       "    <tr>\n",
       "      <td>0</td>\n",
       "      <td>electric_bike</td>\n",
       "      <td>2020-04-04 08:28:20</td>\n",
       "      <td>2020-04-04 08:33:34</td>\n",
       "      <td>None</td>\n",
       "      <td>None</td>\n",
       "      <td>casual</td>\n",
       "      <td>8</td>\n",
       "      <td>8</td>\n",
       "      <td>4</td>\n",
       "      <td>Saturday</td>\n",
       "      <td>5.233333</td>\n",
       "    </tr>\n",
       "    <tr>\n",
       "      <td>1</td>\n",
       "      <td>electric_bike</td>\n",
       "      <td>2020-04-03 18:55:43</td>\n",
       "      <td>2020-04-03 19:21:05</td>\n",
       "      <td>None</td>\n",
       "      <td>None</td>\n",
       "      <td>casual</td>\n",
       "      <td>18</td>\n",
       "      <td>19</td>\n",
       "      <td>3</td>\n",
       "      <td>Friday</td>\n",
       "      <td>25.366667</td>\n",
       "    </tr>\n",
       "    <tr>\n",
       "      <td>2</td>\n",
       "      <td>electric_bike</td>\n",
       "      <td>2020-04-04 15:11:04</td>\n",
       "      <td>2020-04-04 15:12:21</td>\n",
       "      <td>None</td>\n",
       "      <td>None</td>\n",
       "      <td>casual</td>\n",
       "      <td>15</td>\n",
       "      <td>15</td>\n",
       "      <td>4</td>\n",
       "      <td>Saturday</td>\n",
       "      <td>1.283333</td>\n",
       "    </tr>\n",
       "  </tbody>\n",
       "</table>\n",
       "</div>"
      ],
      "text/plain": [
       "   rideable_type          started_at            ended_at start_station_name  \\\n",
       "0  electric_bike 2020-04-04 08:28:20 2020-04-04 08:33:34               None   \n",
       "1  electric_bike 2020-04-03 18:55:43 2020-04-03 19:21:05               None   \n",
       "2  electric_bike 2020-04-04 15:11:04 2020-04-04 15:12:21               None   \n",
       "\n",
       "  end_station_name account_type  started_hour  ended_hour  monthday   weekday  \\\n",
       "0             None       casual             8           8         4  Saturday   \n",
       "1             None       casual            18          19         3    Friday   \n",
       "2             None       casual            15          15         4  Saturday   \n",
       "\n",
       "   trip_time  \n",
       "0   5.233333  \n",
       "1  25.366667  \n",
       "2   1.283333  "
      ]
     },
     "execution_count": 20,
     "metadata": {},
     "output_type": "execute_result"
    }
   ],
   "source": [
    "clean_trip_data['trip_time'] = clean_trip_data.ended_at - clean_trip_data.started_at\n",
    "clean_trip_data['trip_time'] = ((clean_trip_data.trip_time.dt.days * 1440) + \n",
    "                                (clean_trip_data.trip_time.dt.seconds / 60))\n",
    "clean_trip_data.head(3)"
   ]
  },
  {
   "cell_type": "code",
   "execution_count": 21,
   "metadata": {},
   "outputs": [
    {
     "data": {
      "text/html": [
       "<div>\n",
       "<style scoped>\n",
       "    .dataframe tbody tr th:only-of-type {\n",
       "        vertical-align: middle;\n",
       "    }\n",
       "\n",
       "    .dataframe tbody tr th {\n",
       "        vertical-align: top;\n",
       "    }\n",
       "\n",
       "    .dataframe thead th {\n",
       "        text-align: right;\n",
       "    }\n",
       "</style>\n",
       "<table border=\"1\" class=\"dataframe\">\n",
       "  <thead>\n",
       "    <tr style=\"text-align: right;\">\n",
       "      <th></th>\n",
       "      <th>rideable_type</th>\n",
       "      <th>start_station_name</th>\n",
       "      <th>end_station_name</th>\n",
       "      <th>account_type</th>\n",
       "      <th>started_hour</th>\n",
       "      <th>ended_hour</th>\n",
       "      <th>monthday</th>\n",
       "      <th>weekday</th>\n",
       "      <th>trip_time</th>\n",
       "    </tr>\n",
       "  </thead>\n",
       "  <tbody>\n",
       "    <tr>\n",
       "      <td>53345</td>\n",
       "      <td>electric_bike</td>\n",
       "      <td>None</td>\n",
       "      <td>None</td>\n",
       "      <td>member</td>\n",
       "      <td>18</td>\n",
       "      <td>18</td>\n",
       "      <td>18</td>\n",
       "      <td>Saturday</td>\n",
       "      <td>13.316667</td>\n",
       "    </tr>\n",
       "    <tr>\n",
       "      <td>12364</td>\n",
       "      <td>electric_bike</td>\n",
       "      <td>Market St at 10th St</td>\n",
       "      <td>None</td>\n",
       "      <td>casual</td>\n",
       "      <td>14</td>\n",
       "      <td>14</td>\n",
       "      <td>19</td>\n",
       "      <td>Sunday</td>\n",
       "      <td>15.650000</td>\n",
       "    </tr>\n",
       "    <tr>\n",
       "      <td>50928</td>\n",
       "      <td>docked_bike</td>\n",
       "      <td>14th St at Mandela Pkwy</td>\n",
       "      <td>West Oakland BART Station</td>\n",
       "      <td>member</td>\n",
       "      <td>17</td>\n",
       "      <td>17</td>\n",
       "      <td>23</td>\n",
       "      <td>Thursday</td>\n",
       "      <td>3.116667</td>\n",
       "    </tr>\n",
       "    <tr>\n",
       "      <td>12771</td>\n",
       "      <td>electric_bike</td>\n",
       "      <td>Laguna St at Hayes St</td>\n",
       "      <td>23rd Ave at Clement St</td>\n",
       "      <td>casual</td>\n",
       "      <td>18</td>\n",
       "      <td>18</td>\n",
       "      <td>17</td>\n",
       "      <td>Friday</td>\n",
       "      <td>25.200000</td>\n",
       "    </tr>\n",
       "    <tr>\n",
       "      <td>29291</td>\n",
       "      <td>electric_bike</td>\n",
       "      <td>None</td>\n",
       "      <td>None</td>\n",
       "      <td>casual</td>\n",
       "      <td>17</td>\n",
       "      <td>17</td>\n",
       "      <td>15</td>\n",
       "      <td>Wednesday</td>\n",
       "      <td>10.166667</td>\n",
       "    </tr>\n",
       "  </tbody>\n",
       "</table>\n",
       "</div>"
      ],
      "text/plain": [
       "       rideable_type       start_station_name           end_station_name  \\\n",
       "53345  electric_bike                     None                       None   \n",
       "12364  electric_bike     Market St at 10th St                       None   \n",
       "50928    docked_bike  14th St at Mandela Pkwy  West Oakland BART Station   \n",
       "12771  electric_bike    Laguna St at Hayes St     23rd Ave at Clement St   \n",
       "29291  electric_bike                     None                       None   \n",
       "\n",
       "      account_type  started_hour  ended_hour  monthday    weekday  trip_time  \n",
       "53345       member            18          18        18   Saturday  13.316667  \n",
       "12364       casual            14          14        19     Sunday  15.650000  \n",
       "50928       member            17          17        23   Thursday   3.116667  \n",
       "12771       casual            18          18        17     Friday  25.200000  \n",
       "29291       casual            17          17        15  Wednesday  10.166667  "
      ]
     },
     "execution_count": 21,
     "metadata": {},
     "output_type": "execute_result"
    }
   ],
   "source": [
    "clean_trip_data.drop(['started_at', 'ended_at'], axis=1, inplace=True)\n",
    "clean_trip_data.sample(5)"
   ]
  },
  {
   "cell_type": "markdown",
   "metadata": {},
   "source": [
    "## Exploratory Data Analysis\n",
    "The Exploratory Data Analysis section is where I'll be focusing on computing statistics and creating visualizations to explore the dataset. "
   ]
  },
  {
   "cell_type": "markdown",
   "metadata": {},
   "source": [
    "#### What is the structure of the dataset?\n",
    "There are 84,259 bike rents in the dataset with 9 features (rideable_type, start_station_name, end_station_name, account_type, started_hour, ended_hour, monthday, weekday, and trip_time). \n",
    "\n",
    "**Column data types:**\n",
    "1. `rideable_type`: object (str)\n",
    "2. `start_station_name`: object (str)\n",
    "3. `end_station_name`: object (str)\n",
    "4. `account_type`: object (str)\n",
    "5. `started_hour`: integer\n",
    "6. `ended_hour`: integer\n",
    "7. `monthday`: integer\n",
    "8. `weekday`: object (str)\n",
    "9. `trip_time`: float (representing minutes)\n",
    "\n",
    "#### What is/are the main feature(s) of interest in the dataset?\n",
    "I'm most interested in understanding which features are correlated to the number of rents, I'll probably be researching at what time of the day most rentals occur, which type of bike is most popular, which days of the week have the most rentals, etc.  \n",
    "I'm also interested in figuring out what features are best for predicting the trip time of a rent.\n",
    "\n",
    "#### What features in the dataset  will probably help support the investigation into the feature(s) of interest?\n",
    "I believe that the day of the week and the time of day will be determining factors when investigating my features of interest, although I assume that the remaining features will also have relevant information to the analysis."
   ]
  },
  {
   "cell_type": "markdown",
   "metadata": {},
   "source": [
    "### Univariate Exploration\n",
    "Here I'll be investigating distributions of individual variables."
   ]
  },
  {
   "cell_type": "markdown",
   "metadata": {},
   "source": [
    "#### Descriptive statistics"
   ]
  },
  {
   "cell_type": "code",
   "execution_count": 22,
   "metadata": {},
   "outputs": [
    {
     "data": {
      "text/html": [
       "<div>\n",
       "<style scoped>\n",
       "    .dataframe tbody tr th:only-of-type {\n",
       "        vertical-align: middle;\n",
       "    }\n",
       "\n",
       "    .dataframe tbody tr th {\n",
       "        vertical-align: top;\n",
       "    }\n",
       "\n",
       "    .dataframe thead th {\n",
       "        text-align: right;\n",
       "    }\n",
       "</style>\n",
       "<table border=\"1\" class=\"dataframe\">\n",
       "  <thead>\n",
       "    <tr style=\"text-align: right;\">\n",
       "      <th></th>\n",
       "      <th>started_hour</th>\n",
       "      <th>ended_hour</th>\n",
       "      <th>monthday</th>\n",
       "      <th>trip_time</th>\n",
       "    </tr>\n",
       "  </thead>\n",
       "  <tbody>\n",
       "    <tr>\n",
       "      <td>count</td>\n",
       "      <td>84259.000000</td>\n",
       "      <td>84259.000000</td>\n",
       "      <td>84259.000000</td>\n",
       "      <td>84259.000000</td>\n",
       "    </tr>\n",
       "    <tr>\n",
       "      <td>mean</td>\n",
       "      <td>14.354360</td>\n",
       "      <td>14.620290</td>\n",
       "      <td>17.064587</td>\n",
       "      <td>34.476465</td>\n",
       "    </tr>\n",
       "    <tr>\n",
       "      <td>std</td>\n",
       "      <td>4.358705</td>\n",
       "      <td>4.423126</td>\n",
       "      <td>8.424906</td>\n",
       "      <td>605.103733</td>\n",
       "    </tr>\n",
       "    <tr>\n",
       "      <td>min</td>\n",
       "      <td>0.000000</td>\n",
       "      <td>0.000000</td>\n",
       "      <td>1.000000</td>\n",
       "      <td>-1.533333</td>\n",
       "    </tr>\n",
       "    <tr>\n",
       "      <td>25%</td>\n",
       "      <td>12.000000</td>\n",
       "      <td>12.000000</td>\n",
       "      <td>10.000000</td>\n",
       "      <td>6.666667</td>\n",
       "    </tr>\n",
       "    <tr>\n",
       "      <td>50%</td>\n",
       "      <td>15.000000</td>\n",
       "      <td>15.000000</td>\n",
       "      <td>18.000000</td>\n",
       "      <td>12.516667</td>\n",
       "    </tr>\n",
       "    <tr>\n",
       "      <td>75%</td>\n",
       "      <td>17.000000</td>\n",
       "      <td>18.000000</td>\n",
       "      <td>25.000000</td>\n",
       "      <td>24.633333</td>\n",
       "    </tr>\n",
       "    <tr>\n",
       "      <td>max</td>\n",
       "      <td>23.000000</td>\n",
       "      <td>23.000000</td>\n",
       "      <td>30.000000</td>\n",
       "      <td>54728.866667</td>\n",
       "    </tr>\n",
       "  </tbody>\n",
       "</table>\n",
       "</div>"
      ],
      "text/plain": [
       "       started_hour    ended_hour      monthday     trip_time\n",
       "count  84259.000000  84259.000000  84259.000000  84259.000000\n",
       "mean      14.354360     14.620290     17.064587     34.476465\n",
       "std        4.358705      4.423126      8.424906    605.103733\n",
       "min        0.000000      0.000000      1.000000     -1.533333\n",
       "25%       12.000000     12.000000     10.000000      6.666667\n",
       "50%       15.000000     15.000000     18.000000     12.516667\n",
       "75%       17.000000     18.000000     25.000000     24.633333\n",
       "max       23.000000     23.000000     30.000000  54728.866667"
      ]
     },
     "execution_count": 22,
     "metadata": {},
     "output_type": "execute_result"
    }
   ],
   "source": [
    "clean_trip_data.describe()"
   ]
  },
  {
   "cell_type": "markdown",
   "metadata": {},
   "source": [
    "Observations:  \n",
    "1. Most rentals occur between midday and 5pm.\n",
    "2. There's at least one negative value in the trip time column.\n",
    "3. Most trips take 6 to 25 minutes.\n",
    "4. There are some trips that take more than a day (?)"
   ]
  },
  {
   "cell_type": "markdown",
   "metadata": {},
   "source": [
    "#### Rideable type"
   ]
  },
  {
   "cell_type": "code",
   "execution_count": 23,
   "metadata": {},
   "outputs": [
    {
     "data": {
      "text/plain": [
       "electric_bike    57710\n",
       "docked_bike      26549\n",
       "Name: rideable_type, dtype: int64"
      ]
     },
     "execution_count": 23,
     "metadata": {},
     "output_type": "execute_result"
    }
   ],
   "source": [
    "clean_trip_data.rideable_type.value_counts()"
   ]
  },
  {
   "cell_type": "code",
   "execution_count": 24,
   "metadata": {},
   "outputs": [
    {
     "data": {
      "image/png": "[encoded data removed]",
      "text/plain": [
       "<Figure size 432x288 with 1 Axes>"
      ]
     },
     "metadata": {
      "needs_background": "light"
     },
     "output_type": "display_data"
    }
   ],
   "source": [
    "base_color = sns.color_palette()[0]\n",
    "sns.countplot(data = clean_trip_data, x = 'rideable_type', color = base_color);"
   ]
  },
  {
   "cell_type": "markdown",
   "metadata": {},
   "source": [
    "Observations:\n",
    "1. Electric bikes were rented more than twice as often as docked bikes."
   ]
  },
  {
   "cell_type": "markdown",
   "metadata": {},
   "source": [
    "#### Start station"
   ]
  },
  {
   "cell_type": "code",
   "execution_count": 25,
   "metadata": {},
   "outputs": [
    {
     "data": {
      "image/png": "[encoded data removed]",
      "text/plain": [
       "<Figure size 504x504 with 1 Axes>"
      ]
     },
     "metadata": {
      "needs_background": "light"
     },
     "output_type": "display_data"
    }
   ],
   "source": [
    "plt.figure(figsize=(7, 7))\n",
    "popular_start_stations = clean_trip_data['start_station_name'].value_counts().index[1:16]\n",
    "sns.countplot(data = clean_trip_data, y = 'start_station_name', color = base_color, order = popular_start_stations);"
   ]
  },
  {
   "cell_type": "code",
   "execution_count": 26,
   "metadata": {},
   "outputs": [
    {
     "data": {
      "image/png": "[encoded data removed]",
      "text/plain": [
       "<Figure size 504x504 with 1 Axes>"
      ]
     },
     "metadata": {
      "needs_background": "light"
     },
     "output_type": "display_data"
    }
   ],
   "source": [
    "plt.figure(figsize=(7, 7))\n",
    "unpopular_start_stations = clean_trip_data['start_station_name'].value_counts().index[-16:-1][::-1]\n",
    "sns.countplot(data = clean_trip_data, y = 'start_station_name', color = base_color, order = unpopular_start_stations);"
   ]
  },
  {
   "cell_type": "code",
   "execution_count": 27,
   "metadata": {},
   "outputs": [
    {
     "data": {
      "text/plain": [
       "30825"
      ]
     },
     "execution_count": 27,
     "metadata": {},
     "output_type": "execute_result"
    }
   ],
   "source": [
    "clean_trip_data.start_station_name.value_counts()['None']"
   ]
  },
  {
   "cell_type": "markdown",
   "metadata": {},
   "source": [
    "Observations:  \n",
    "1. Market St at 10th St was the most common start station with a significant difference from the second one.\n",
    "2. It is important to inform which stations are more or less in demand to decide which of them should have more or less bicycles available.\n",
    "3. There are 30825 rides with no starting station associated."
   ]
  },
  {
   "cell_type": "markdown",
   "metadata": {},
   "source": [
    "#### End station"
   ]
  },
  {
   "cell_type": "code",
   "execution_count": 28,
   "metadata": {},
   "outputs": [
    {
     "data": {
      "image/png": "[encoded data removed]",
      "text/plain": [
       "<Figure size 504x504 with 1 Axes>"
      ]
     },
     "metadata": {
      "needs_background": "light"
     },
     "output_type": "display_data"
    }
   ],
   "source": [
    "plt.figure(figsize=(7, 7))\n",
    "popular_end_stations = clean_trip_data['end_station_name'].value_counts().index[1:16]\n",
    "sns.countplot(data = clean_trip_data, y = 'end_station_name', color = base_color, order = popular_end_stations);"
   ]
  },
  {
   "cell_type": "code",
   "execution_count": 29,
   "metadata": {},
   "outputs": [
    {
     "data": {
      "text/plain": [
       "32401"
      ]
     },
     "execution_count": 29,
     "metadata": {},
     "output_type": "execute_result"
    }
   ],
   "source": [
    "clean_trip_data.end_station_name.value_counts()['None']"
   ]
  },
  {
   "cell_type": "markdown",
   "metadata": {},
   "source": [
    "Observations:  \n",
    "1. Once again, the Market St at 10th St was the in the top of the list, being the most common end station with a significant difference from the second one.\n",
    "2. There are 32401 rides with no ending station associated."
   ]
  },
  {
   "cell_type": "markdown",
   "metadata": {},
   "source": [
    "#### Account type"
   ]
  },
  {
   "cell_type": "code",
   "execution_count": 30,
   "metadata": {},
   "outputs": [
    {
     "data": {
      "image/png": "[encoded data removed]",
      "text/plain": [
       "<Figure size 432x288 with 1 Axes>"
      ]
     },
     "metadata": {
      "needs_background": "light"
     },
     "output_type": "display_data"
    }
   ],
   "source": [
    "sns.countplot(data = clean_trip_data, x = 'account_type', color = base_color);"
   ]
  },
  {
   "cell_type": "markdown",
   "metadata": {},
   "source": [
    "Observations:  \n",
    "1. There are more casual users than members."
   ]
  },
  {
   "cell_type": "markdown",
   "metadata": {},
   "source": [
    "#### Started hour"
   ]
  },
  {
   "cell_type": "code",
   "execution_count": 31,
   "metadata": {},
   "outputs": [
    {
     "data": {
      "image/png": "[encoded data removed]",
      "text/plain": [
       "<Figure size 864x360 with 1 Axes>"
      ]
     },
     "metadata": {
      "needs_background": "light"
     },
     "output_type": "display_data"
    }
   ],
   "source": [
    "plt.figure(figsize=(12, 5))\n",
    "sns.countplot(data = clean_trip_data, x = 'started_hour', color = base_color);"
   ]
  },
  {
   "cell_type": "markdown",
   "metadata": {},
   "source": [
    "Observations:  \n",
    "1. Left-skewed distribution.\n",
    "2. Rental incidence decreases considerably after 8 pm and before 10 am."
   ]
  },
  {
   "cell_type": "markdown",
   "metadata": {},
   "source": [
    "#### Ended hour"
   ]
  },
  {
   "cell_type": "code",
   "execution_count": 32,
   "metadata": {},
   "outputs": [
    {
     "data": {
      "image/png": "[encoded data removed]",
      "text/plain": [
       "<Figure size 864x360 with 1 Axes>"
      ]
     },
     "metadata": {
      "needs_background": "light"
     },
     "output_type": "display_data"
    }
   ],
   "source": [
    "plt.figure(figsize=(12, 5))\n",
    "sns.countplot(data = clean_trip_data, x = 'ended_hour', color = base_color);"
   ]
  },
  {
   "cell_type": "markdown",
   "metadata": {},
   "source": [
    "Observations:  \n",
    "1. Left-skewed distribution.\n",
    "2. Very similar to the started_hour distributions, which indicates that most of the trips take a short period of time (less than 2 hours)."
   ]
  },
  {
   "cell_type": "markdown",
   "metadata": {},
   "source": [
    "#### Monthday"
   ]
  },
  {
   "cell_type": "code",
   "execution_count": 33,
   "metadata": {},
   "outputs": [
    {
     "data": {
      "image/png": "[encoded data removed]",
      "text/plain": [
       "<Figure size 864x360 with 1 Axes>"
      ]
     },
     "metadata": {
      "needs_background": "light"
     },
     "output_type": "display_data"
    }
   ],
   "source": [
    "plt.figure(figsize=(12, 5))\n",
    "sns.countplot(data = clean_trip_data, x = 'monthday', color = base_color);"
   ]
  },
  {
   "cell_type": "markdown",
   "metadata": {},
   "source": [
    "Observations:  \n",
    "1. Rentals below the average in days 4, 5 and 6 (I'll possibly investigate what happened in those days, checking for news or something related to the COVID-19).\n",
    "2. Low variations over the month.\n",
    "3. More than 5000 rides on April 25."
   ]
  },
  {
   "cell_type": "markdown",
   "metadata": {},
   "source": [
    "#### Weekday"
   ]
  },
  {
   "cell_type": "code",
   "execution_count": 34,
   "metadata": {},
   "outputs": [
    {
     "data": {
      "image/png": "[encoded data removed]",
      "text/plain": [
       "<Figure size 432x288 with 1 Axes>"
      ]
     },
     "metadata": {
      "needs_background": "light"
     },
     "output_type": "display_data"
    }
   ],
   "source": [
    "ax = sns.countplot(data = clean_trip_data, x = 'weekday', color = base_color, \n",
    "                   order=['Monday', 'Tuesday', 'Wednesday', 'Thursday', 'Friday', 'Saturday', 'Sunday']);\n",
    "\n",
    "ax.set_xticklabels(['Mon', 'Tue', 'Wed', 'Thu', 'Fri', 'Sat', 'Sun']);"
   ]
  },
  {
   "cell_type": "markdown",
   "metadata": {},
   "source": [
    "Observations:  \n",
    "1. Monday below the average.\n",
    "2. It doesn't seems that there's much variation between the days of the week. "
   ]
  },
  {
   "cell_type": "markdown",
   "metadata": {},
   "source": [
    "#### Trip time"
   ]
  },
  {
   "cell_type": "code",
   "execution_count": 35,
   "metadata": {},
   "outputs": [
    {
     "data": {
      "text/plain": [
       "129.3473333333333"
      ]
     },
     "execution_count": 35,
     "metadata": {},
     "output_type": "execute_result"
    }
   ],
   "source": [
    "clean_trip_data.trip_time.quantile(0.99)"
   ]
  },
  {
   "cell_type": "code",
   "execution_count": 36,
   "metadata": {},
   "outputs": [],
   "source": [
    "trip_time_under_200 = clean_trip_data.query('trip_time < 200')"
   ]
  },
  {
   "cell_type": "code",
   "execution_count": 37,
   "metadata": {},
   "outputs": [
    {
     "data": {
      "image/png": "[encoded data removed]",
      "text/plain": [
       "<Figure size 720x288 with 1 Axes>"
      ]
     },
     "metadata": {
      "needs_background": "light"
     },
     "output_type": "display_data"
    }
   ],
   "source": [
    "plt.figure(figsize=(10, 4))\n",
    "plt.hist(data=trip_time_under_200, x='trip_time', bins=50)\n",
    "plt.xlim(0, 200)\n",
    "plt.xticks(range(0, 200, 10));"
   ]
  },
  {
   "cell_type": "code",
   "execution_count": 38,
   "metadata": {},
   "outputs": [
    {
     "data": {
      "text/html": [
       "<div>\n",
       "<style scoped>\n",
       "    .dataframe tbody tr th:only-of-type {\n",
       "        vertical-align: middle;\n",
       "    }\n",
       "\n",
       "    .dataframe tbody tr th {\n",
       "        vertical-align: top;\n",
       "    }\n",
       "\n",
       "    .dataframe thead th {\n",
       "        text-align: right;\n",
       "    }\n",
       "</style>\n",
       "<table border=\"1\" class=\"dataframe\">\n",
       "  <thead>\n",
       "    <tr style=\"text-align: right;\">\n",
       "      <th></th>\n",
       "      <th>rideable_type</th>\n",
       "      <th>start_station_name</th>\n",
       "      <th>end_station_name</th>\n",
       "      <th>account_type</th>\n",
       "      <th>started_hour</th>\n",
       "      <th>ended_hour</th>\n",
       "      <th>monthday</th>\n",
       "      <th>weekday</th>\n",
       "      <th>trip_time</th>\n",
       "    </tr>\n",
       "  </thead>\n",
       "  <tbody>\n",
       "    <tr>\n",
       "      <td>21575</td>\n",
       "      <td>docked_bike</td>\n",
       "      <td>7th Ave at Cabrillo St</td>\n",
       "      <td>Jones St at Post St</td>\n",
       "      <td>casual</td>\n",
       "      <td>19</td>\n",
       "      <td>19</td>\n",
       "      <td>18</td>\n",
       "      <td>Saturday</td>\n",
       "      <td>-0.200000</td>\n",
       "    </tr>\n",
       "    <tr>\n",
       "      <td>35958</td>\n",
       "      <td>docked_bike</td>\n",
       "      <td>Montgomery St BART Station (Market St at 2nd St)</td>\n",
       "      <td>Powell St BART Station (Market St at 4th St)</td>\n",
       "      <td>member</td>\n",
       "      <td>17</td>\n",
       "      <td>17</td>\n",
       "      <td>29</td>\n",
       "      <td>Wednesday</td>\n",
       "      <td>-0.183333</td>\n",
       "    </tr>\n",
       "    <tr>\n",
       "      <td>36591</td>\n",
       "      <td>docked_bike</td>\n",
       "      <td>Duboce Park</td>\n",
       "      <td>20th St at Bryant St</td>\n",
       "      <td>member</td>\n",
       "      <td>15</td>\n",
       "      <td>15</td>\n",
       "      <td>29</td>\n",
       "      <td>Wednesday</td>\n",
       "      <td>-0.333333</td>\n",
       "    </tr>\n",
       "    <tr>\n",
       "      <td>37164</td>\n",
       "      <td>docked_bike</td>\n",
       "      <td>Grand Ave at Perkins St</td>\n",
       "      <td>MacArthur Blvd at Telegraph Ave</td>\n",
       "      <td>casual</td>\n",
       "      <td>18</td>\n",
       "      <td>18</td>\n",
       "      <td>24</td>\n",
       "      <td>Friday</td>\n",
       "      <td>-0.133333</td>\n",
       "    </tr>\n",
       "    <tr>\n",
       "      <td>37540</td>\n",
       "      <td>docked_bike</td>\n",
       "      <td>Beale St at Harrison St</td>\n",
       "      <td>Buchanan St at North Point St</td>\n",
       "      <td>casual</td>\n",
       "      <td>11</td>\n",
       "      <td>11</td>\n",
       "      <td>25</td>\n",
       "      <td>Saturday</td>\n",
       "      <td>-0.133333</td>\n",
       "    </tr>\n",
       "    <tr>\n",
       "      <td>...</td>\n",
       "      <td>...</td>\n",
       "      <td>...</td>\n",
       "      <td>...</td>\n",
       "      <td>...</td>\n",
       "      <td>...</td>\n",
       "      <td>...</td>\n",
       "      <td>...</td>\n",
       "      <td>...</td>\n",
       "      <td>...</td>\n",
       "    </tr>\n",
       "    <tr>\n",
       "      <td>78738</td>\n",
       "      <td>docked_bike</td>\n",
       "      <td>Rhode Island St at 17th St</td>\n",
       "      <td>Garfield Square (25th St at Harrison St)</td>\n",
       "      <td>member</td>\n",
       "      <td>15</td>\n",
       "      <td>15</td>\n",
       "      <td>29</td>\n",
       "      <td>Wednesday</td>\n",
       "      <td>-1.150000</td>\n",
       "    </tr>\n",
       "    <tr>\n",
       "      <td>78925</td>\n",
       "      <td>docked_bike</td>\n",
       "      <td>Parkmoor Ave at Race St</td>\n",
       "      <td>Parkmoor Ave at Race St</td>\n",
       "      <td>casual</td>\n",
       "      <td>11</td>\n",
       "      <td>11</td>\n",
       "      <td>25</td>\n",
       "      <td>Saturday</td>\n",
       "      <td>-0.083333</td>\n",
       "    </tr>\n",
       "    <tr>\n",
       "      <td>79596</td>\n",
       "      <td>docked_bike</td>\n",
       "      <td>Webster St at Grove St</td>\n",
       "      <td>Cyril Magnin St at Ellis St</td>\n",
       "      <td>casual</td>\n",
       "      <td>17</td>\n",
       "      <td>17</td>\n",
       "      <td>9</td>\n",
       "      <td>Thursday</td>\n",
       "      <td>-0.516667</td>\n",
       "    </tr>\n",
       "    <tr>\n",
       "      <td>79655</td>\n",
       "      <td>docked_bike</td>\n",
       "      <td>El Embarcadero at Grand Ave</td>\n",
       "      <td>Horton St at 40th St</td>\n",
       "      <td>member</td>\n",
       "      <td>12</td>\n",
       "      <td>12</td>\n",
       "      <td>5</td>\n",
       "      <td>Sunday</td>\n",
       "      <td>-0.550000</td>\n",
       "    </tr>\n",
       "    <tr>\n",
       "      <td>81428</td>\n",
       "      <td>docked_bike</td>\n",
       "      <td>2nd Ave at E 18th St</td>\n",
       "      <td>49th St at Telegraph Ave</td>\n",
       "      <td>casual</td>\n",
       "      <td>17</td>\n",
       "      <td>17</td>\n",
       "      <td>14</td>\n",
       "      <td>Tuesday</td>\n",
       "      <td>-0.016667</td>\n",
       "    </tr>\n",
       "  </tbody>\n",
       "</table>\n",
       "<p>67 rows × 9 columns</p>\n",
       "</div>"
      ],
      "text/plain": [
       "      rideable_type                                start_station_name  \\\n",
       "21575   docked_bike                            7th Ave at Cabrillo St   \n",
       "35958   docked_bike  Montgomery St BART Station (Market St at 2nd St)   \n",
       "36591   docked_bike                                       Duboce Park   \n",
       "37164   docked_bike                           Grand Ave at Perkins St   \n",
       "37540   docked_bike                           Beale St at Harrison St   \n",
       "...             ...                                               ...   \n",
       "78738   docked_bike                        Rhode Island St at 17th St   \n",
       "78925   docked_bike                           Parkmoor Ave at Race St   \n",
       "79596   docked_bike                            Webster St at Grove St   \n",
       "79655   docked_bike                       El Embarcadero at Grand Ave   \n",
       "81428   docked_bike                              2nd Ave at E 18th St   \n",
       "\n",
       "                                   end_station_name account_type  \\\n",
       "21575                           Jones St at Post St       casual   \n",
       "35958  Powell St BART Station (Market St at 4th St)       member   \n",
       "36591                          20th St at Bryant St       member   \n",
       "37164               MacArthur Blvd at Telegraph Ave       casual   \n",
       "37540                 Buchanan St at North Point St       casual   \n",
       "...                                             ...          ...   \n",
       "78738      Garfield Square (25th St at Harrison St)       member   \n",
       "78925                       Parkmoor Ave at Race St       casual   \n",
       "79596                   Cyril Magnin St at Ellis St       casual   \n",
       "79655                          Horton St at 40th St       member   \n",
       "81428                      49th St at Telegraph Ave       casual   \n",
       "\n",
       "       started_hour  ended_hour  monthday    weekday  trip_time  \n",
       "21575            19          19        18   Saturday  -0.200000  \n",
       "35958            17          17        29  Wednesday  -0.183333  \n",
       "36591            15          15        29  Wednesday  -0.333333  \n",
       "37164            18          18        24     Friday  -0.133333  \n",
       "37540            11          11        25   Saturday  -0.133333  \n",
       "...             ...         ...       ...        ...        ...  \n",
       "78738            15          15        29  Wednesday  -1.150000  \n",
       "78925            11          11        25   Saturday  -0.083333  \n",
       "79596            17          17         9   Thursday  -0.516667  \n",
       "79655            12          12         5     Sunday  -0.550000  \n",
       "81428            17          17        14    Tuesday  -0.016667  \n",
       "\n",
       "[67 rows x 9 columns]"
      ]
     },
     "execution_count": 38,
     "metadata": {},
     "output_type": "execute_result"
    }
   ],
   "source": [
    "clean_trip_data.query('trip_time < 0')"
   ]
  },
  {
   "cell_type": "markdown",
   "metadata": {},
   "source": [
    "Observations:  \n",
    "1. Right-skewed distribution.\n",
    "2. 67 rows with incorrect information about the trip time.\n",
    "3. 99% of the data falls between 0 and 129.35 .\n",
    "4. There are some rides with more than one day of trip time, probably it's because the user forgot to return the bike, but I might search more about Bay Wheels to understand how is the process of using the bikes."
   ]
  },
  {
   "cell_type": "markdown",
   "metadata": {},
   "source": [
    "#### Discuss the distribution(s) of your variable(s) of interest. Were there any unusual points? Did you need to perform any transformations?\n",
    "It was possible to arrive at some conclusions about the number of rentals in each feature, such as the greater demand for electric bicycles, a list of stations with more or less occurrences of rentals (as well as returns), the greater number of casual users, the hours of the day with the highest number of rentals and the average duration of each trip.  \n",
    "Some trips were also identified with travel time values that deserve further investigation, as they had negative or extremely high values, which caused them to be left out of the analysis.\n",
    "\n",
    "\n",
    "#### Of the features you investigated, were there any unusual distributions? Did you perform any operations on the data to tidy, adjust, or change the form of the data? If so, why did you do this?\n",
    "As mentioned above, the distribution of travel times had negative and extremely high values, which I decided to exclude from the analysis as they are probably user errors or data collection errors.\n",
    "In addition, I expected a less uniform distribution of the weekdays, as I believed that some days would have significantly greater demands.\n",
    "Below average rentals were also identified on April 4th, 5th and 6th, which I will probably investigate manually.\n"
   ]
  },
  {
   "cell_type": "markdown",
   "metadata": {},
   "source": [
    "### Bivariate Exploration\n",
    "\n",
    "> In this section, investigate relationships between pairs of variables in your\n",
    "data. Make sure the variables that you cover here have been introduced in some\n",
    "fashion in the previous section (univariate exploration)."
   ]
  },
  {
   "cell_type": "markdown",
   "metadata": {},
   "source": [
    "#### Rideable Type - Start Station Name"
   ]
  },
  {
   "cell_type": "code",
   "execution_count": 39,
   "metadata": {},
   "outputs": [
    {
     "data": {
      "image/png": "[encoded data removed]",
      "text/plain": [
       "<Figure size 504x504 with 1 Axes>"
      ]
     },
     "metadata": {
      "needs_background": "light"
     },
     "output_type": "display_data"
    }
   ],
   "source": [
    "plt.figure(figsize=(7, 7))\n",
    "sns.countplot(data = clean_trip_data, y = 'start_station_name', hue='rideable_type', order = popular_start_stations);"
   ]
  },
  {
   "cell_type": "markdown",
   "metadata": {},
   "source": [
    "#### Rideable Type - Account Type"
   ]
  },
  {
   "cell_type": "code",
   "execution_count": 40,
   "metadata": {},
   "outputs": [
    {
     "data": {
      "image/png": "[encoded data removed]",
      "text/plain": [
       "<Figure size 504x360 with 1 Axes>"
      ]
     },
     "metadata": {
      "needs_background": "light"
     },
     "output_type": "display_data"
    }
   ],
   "source": [
    "plt.figure(figsize=(7, 5))\n",
    "sns.countplot(data = clean_trip_data, x = 'rideable_type', hue = 'account_type');"
   ]
  },
  {
   "cell_type": "markdown",
   "metadata": {},
   "source": [
    "#### Rideable Type - Started Hour"
   ]
  },
  {
   "cell_type": "code",
   "execution_count": 41,
   "metadata": {},
   "outputs": [
    {
     "data": {
      "image/png": "[encoded data removed]",
      "text/plain": [
       "<Figure size 936x432 with 1 Axes>"
      ]
     },
     "metadata": {
      "needs_background": "light"
     },
     "output_type": "display_data"
    }
   ],
   "source": [
    "plt.figure(figsize=(13, 6))\n",
    "ax = sns.countplot(data = clean_trip_data, x = 'started_hour', hue = 'rideable_type');"
   ]
  },
  {
   "cell_type": "markdown",
   "metadata": {},
   "source": [
    "#### Rideable Type - Weekday"
   ]
  },
  {
   "cell_type": "code",
   "execution_count": 42,
   "metadata": {},
   "outputs": [
    {
     "data": {
      "image/png": "[encoded data removed]",
      "text/plain": [
       "<Figure size 576x432 with 1 Axes>"
      ]
     },
     "metadata": {
      "needs_background": "light"
     },
     "output_type": "display_data"
    }
   ],
   "source": [
    "plt.figure(figsize=(8, 6))\n",
    "ax = sns.countplot(data = clean_trip_data, x = 'weekday', hue = 'rideable_type', \n",
    "                   order=['Monday', 'Tuesday', 'Wednesday', 'Thursday', 'Friday', 'Saturday', 'Sunday'])\n",
    "ax.legend(loc = 8, ncol = 3, framealpha = 1, title = 'rideable_type');"
   ]
  },
  {
   "cell_type": "markdown",
   "metadata": {},
   "source": [
    "#### Rideable Type - Trip Time"
   ]
  },
  {
   "cell_type": "code",
   "execution_count": 43,
   "metadata": {},
   "outputs": [
    {
     "data": {
      "image/png": "[encoded data removed]",
      "text/plain": [
       "<Figure size 720x504 with 1 Axes>"
      ]
     },
     "metadata": {
      "needs_background": "light"
     },
     "output_type": "display_data"
    }
   ],
   "source": [
    "plt.figure(figsize=(10, 7))\n",
    "sns.boxplot(data = clean_trip_data, x = 'rideable_type', y = 'trip_time', color = base_color)\n",
    "plt.ylim(0, 80);"
   ]
  },
  {
   "cell_type": "code",
   "execution_count": 44,
   "metadata": {},
   "outputs": [
    {
     "data": {
      "text/plain": [
       "480.5"
      ]
     },
     "execution_count": 44,
     "metadata": {},
     "output_type": "execute_result"
    }
   ],
   "source": [
    "clean_trip_data.query('rideable_type == \"electric_bike\"').trip_time.max()"
   ]
  },
  {
   "cell_type": "code",
   "execution_count": 45,
   "metadata": {},
   "outputs": [
    {
     "data": {
      "text/plain": [
       "54728.86666666667"
      ]
     },
     "execution_count": 45,
     "metadata": {},
     "output_type": "execute_result"
    }
   ],
   "source": [
    "clean_trip_data.query('rideable_type == \"docked_bike\"').trip_time.max()"
   ]
  },
  {
   "cell_type": "code",
   "execution_count": 46,
   "metadata": {},
   "outputs": [
    {
     "data": {
      "text/plain": [
       "202"
      ]
     },
     "execution_count": 46,
     "metadata": {},
     "output_type": "execute_result"
    }
   ],
   "source": [
    "len(clean_trip_data.query('trip_time > 480 and rideable_type == \"docked_bike\"'))"
   ]
  },
  {
   "cell_type": "code",
   "execution_count": 47,
   "metadata": {},
   "outputs": [
    {
     "data": {
      "text/plain": [
       "5209"
      ]
     },
     "execution_count": 47,
     "metadata": {},
     "output_type": "execute_result"
    }
   ],
   "source": [
    "len(clean_trip_data.query('trip_time > 46 and rideable_type == \"electric_bike\"'))"
   ]
  },
  {
   "cell_type": "code",
   "execution_count": 48,
   "metadata": {},
   "outputs": [
    {
     "data": {
      "text/plain": [
       "1859"
      ]
     },
     "execution_count": 48,
     "metadata": {},
     "output_type": "execute_result"
    }
   ],
   "source": [
    "len(clean_trip_data.query('trip_time > 61 and rideable_type == \"docked_bike\"'))"
   ]
  },
  {
   "cell_type": "markdown",
   "metadata": {},
   "source": [
    "#### Started Station Name - Started Hour"
   ]
  },
  {
   "cell_type": "code",
   "execution_count": 49,
   "metadata": {},
   "outputs": [
    {
     "data": {
      "text/plain": [
       "(0, 23)"
      ]
     },
     "execution_count": 49,
     "metadata": {},
     "output_type": "execute_result"
    },
    {
     "data": {
      "image/png": "[encoded data removed]",
      "text/plain": [
       "<Figure size 576x720 with 1 Axes>"
      ]
     },
     "metadata": {
      "needs_background": "light"
     },
     "output_type": "display_data"
    }
   ],
   "source": [
    "plt.figure(figsize=(8, 10))\n",
    "sns.violinplot(data=clean_trip_data, x='started_hour', y='start_station_name', \n",
    "               color=base_color, order=popular_start_stations, inner = None)\n",
    "plt.xticks(range(0, 24));\n",
    "plt.xlim(0, 23)"
   ]
  },
  {
   "cell_type": "markdown",
   "metadata": {},
   "source": [
    "#### Account Type - Started Hour"
   ]
  },
  {
   "cell_type": "code",
   "execution_count": 50,
   "metadata": {},
   "outputs": [
    {
     "data": {
      "image/png": "[encoded data removed]",
      "text/plain": [
       "<Figure size 1008x432 with 1 Axes>"
      ]
     },
     "metadata": {
      "needs_background": "light"
     },
     "output_type": "display_data"
    }
   ],
   "source": [
    "plt.figure(figsize=(14, 6))\n",
    "ax = sns.countplot(data = clean_trip_data, x = 'started_hour', hue = 'account_type');"
   ]
  },
  {
   "cell_type": "markdown",
   "metadata": {},
   "source": [
    "#### Account Type - Weekday"
   ]
  },
  {
   "cell_type": "code",
   "execution_count": 51,
   "metadata": {},
   "outputs": [
    {
     "data": {
      "image/png": "[encoded data removed]",
      "text/plain": [
       "<Figure size 576x432 with 1 Axes>"
      ]
     },
     "metadata": {
      "needs_background": "light"
     },
     "output_type": "display_data"
    }
   ],
   "source": [
    "plt.figure(figsize=(8, 6))\n",
    "ax = sns.countplot(data = clean_trip_data, x = 'weekday', hue = 'account_type', \n",
    "                   order=['Monday', 'Tuesday', 'Wednesday', 'Thursday', 'Friday', 'Saturday', 'Sunday']);"
   ]
  },
  {
   "cell_type": "markdown",
   "metadata": {},
   "source": [
    "#### Account Type - Trip Time"
   ]
  },
  {
   "cell_type": "code",
   "execution_count": 52,
   "metadata": {},
   "outputs": [
    {
     "data": {
      "image/png": "[encoded data removed]",
      "text/plain": [
       "<Figure size 720x504 with 1 Axes>"
      ]
     },
     "metadata": {
      "needs_background": "light"
     },
     "output_type": "display_data"
    }
   ],
   "source": [
    "plt.figure(figsize=(10, 7))\n",
    "sns.boxplot(data = clean_trip_data, x = 'account_type', y = 'trip_time', color = base_color)\n",
    "plt.ylim(0, 80);"
   ]
  },
  {
   "cell_type": "code",
   "execution_count": 53,
   "metadata": {},
   "outputs": [
    {
     "data": {
      "text/plain": [
       "54728.86666666667"
      ]
     },
     "execution_count": 53,
     "metadata": {},
     "output_type": "execute_result"
    }
   ],
   "source": [
    "clean_trip_data.query('account_type == \"casual\"').trip_time.max()"
   ]
  },
  {
   "cell_type": "code",
   "execution_count": 54,
   "metadata": {},
   "outputs": [
    {
     "data": {
      "text/plain": [
       "24690.366666666665"
      ]
     },
     "execution_count": 54,
     "metadata": {},
     "output_type": "execute_result"
    }
   ],
   "source": [
    "clean_trip_data.query('account_type == \"member\"').trip_time.max()"
   ]
  },
  {
   "cell_type": "code",
   "execution_count": 55,
   "metadata": {},
   "outputs": [
    {
     "data": {
      "text/plain": [
       "4386"
      ]
     },
     "execution_count": 55,
     "metadata": {},
     "output_type": "execute_result"
    }
   ],
   "source": [
    "len(clean_trip_data.query('trip_time > 60 and account_type == \"casual\"'))"
   ]
  },
  {
   "cell_type": "code",
   "execution_count": 56,
   "metadata": {},
   "outputs": [
    {
     "data": {
      "text/plain": [
       "2452"
      ]
     },
     "execution_count": 56,
     "metadata": {},
     "output_type": "execute_result"
    }
   ],
   "source": [
    "len(clean_trip_data.query('trip_time > 41 and account_type == \"member\"'))"
   ]
  },
  {
   "cell_type": "code",
   "execution_count": 57,
   "metadata": {},
   "outputs": [
    {
     "data": {
      "text/plain": [
       "170"
      ]
     },
     "execution_count": 57,
     "metadata": {},
     "output_type": "execute_result"
    }
   ],
   "source": [
    "len(clean_trip_data.query('trip_time > 600 and account_type == \"casual\"'))"
   ]
  },
  {
   "cell_type": "code",
   "execution_count": 58,
   "metadata": {},
   "outputs": [
    {
     "data": {
      "text/plain": [
       "18"
      ]
     },
     "execution_count": 58,
     "metadata": {},
     "output_type": "execute_result"
    }
   ],
   "source": [
    "len(clean_trip_data.query('trip_time > 600 and account_type == \"member\"'))"
   ]
  },
  {
   "cell_type": "markdown",
   "metadata": {},
   "source": [
    "#### Started Hour - Weekday"
   ]
  },
  {
   "cell_type": "code",
   "execution_count": 59,
   "metadata": {},
   "outputs": [
    {
     "name": "stderr",
     "output_type": "stream",
     "text": [
      "/opt/anaconda3/lib/python3.7/site-packages/seaborn/axisgrid.py:715: UserWarning: Using the countplot function without specifying `order` is likely to produce an incorrect plot.\n",
      "  warnings.warn(warning)\n"
     ]
    },
    {
     "data": {
      "image/png": "[encoded data removed]",
      "text/plain": [
       "<Figure size 1728x864 with 7 Axes>"
      ]
     },
     "metadata": {
      "needs_background": "light"
     },
     "output_type": "display_data"
    }
   ],
   "source": [
    "g = sns.FacetGrid(data = clean_trip_data, col = 'weekday', col_wrap = 4, height=6, sharex=False,\n",
    "                  col_order=['Monday', 'Tuesday', 'Wednesday', 'Thursday', 'Friday', 'Saturday', 'Sunday'])\n",
    "g.map(sns.countplot, \"started_hour\")\n",
    "g.set_titles('{col_name}', size=16);"
   ]
  },
  {
   "cell_type": "markdown",
   "metadata": {},
   "source": [
    "#### Started Hour - Ended Hour"
   ]
  },
  {
   "cell_type": "code",
   "execution_count": 60,
   "metadata": {},
   "outputs": [
    {
     "data": {
      "image/png": "[encoded data removed]",
      "text/plain": [
       "<Figure size 648x504 with 2 Axes>"
      ]
     },
     "metadata": {
      "needs_background": "light"
     },
     "output_type": "display_data"
    }
   ],
   "source": [
    "plt.figure(figsize=(9, 7))\n",
    "bins_x = np.arange(-0.5, 24.5, 1)\n",
    "bins_y = np.arange(-0.5, 24.5, 1)\n",
    "plt.hist2d(data = clean_trip_data, x = 'started_hour', y = 'ended_hour', bins=[bins_x, bins_y])\n",
    "plt.xlabel('Started hour')\n",
    "plt.ylabel('Ended hour')\n",
    "plt.xticks(range(0, 24))\n",
    "plt.yticks(range(0, 24))\n",
    "plt.colorbar();"
   ]
  },
  {
   "cell_type": "markdown",
   "metadata": {},
   "source": [
    "#### Started Hour - Trip Time"
   ]
  },
  {
   "cell_type": "code",
   "execution_count": 61,
   "metadata": {},
   "outputs": [
    {
     "data": {
      "image/png": "[encoded data removed]",
      "text/plain": [
       "<Figure size 648x360 with 1 Axes>"
      ]
     },
     "metadata": {
      "needs_background": "light"
     },
     "output_type": "display_data"
    }
   ],
   "source": [
    "plt.figure(figsize=(9, 5))\n",
    "plt.scatter(data = clean_trip_data, x = 'started_hour', y = 'trip_time')\n",
    "plt.xlabel('Hour')\n",
    "plt.ylabel('Trip time (minutes)')\n",
    "plt.xticks(range(0, 24));"
   ]
  },
  {
   "cell_type": "code",
   "execution_count": 62,
   "metadata": {},
   "outputs": [
    {
     "data": {
      "image/png": "[encoded data removed]",
      "text/plain": [
       "<Figure size 648x360 with 1 Axes>"
      ]
     },
     "metadata": {
      "needs_background": "light"
     },
     "output_type": "display_data"
    }
   ],
   "source": [
    "plt.figure(figsize=(9, 5))\n",
    "plt.scatter(data = clean_trip_data, x = 'started_hour', y = 'trip_time')\n",
    "plt.ylim(0, 500)\n",
    "plt.xlabel('Hour')\n",
    "plt.ylabel('Trip time (minutes)')\n",
    "plt.xticks(range(0, 24));"
   ]
  },
  {
   "cell_type": "markdown",
   "metadata": {},
   "source": [
    "#### Weekday - Trip Time"
   ]
  },
  {
   "cell_type": "code",
   "execution_count": 63,
   "metadata": {},
   "outputs": [
    {
     "data": {
      "image/png": "[encoded data removed]",
      "text/plain": [
       "<Figure size 720x504 with 1 Axes>"
      ]
     },
     "metadata": {
      "needs_background": "light"
     },
     "output_type": "display_data"
    }
   ],
   "source": [
    "plt.figure(figsize=(10, 7))\n",
    "sns.boxplot(data = clean_trip_data, x = 'weekday', y = 'trip_time', color = base_color, \n",
    "            order=['Monday', 'Tuesday', 'Wednesday', 'Thursday', 'Friday', 'Saturday', 'Sunday'])\n",
    "plt.ylim(0, 80);"
   ]
  },
  {
   "cell_type": "markdown",
   "metadata": {},
   "source": [
    "### Talk about some of the relationships you observed in this part of the investigation. How did the feature(s) of interest vary with other features in the dataset?\n",
    "\n",
    "> Your answer here!\n",
    "\n",
    "### Did you observe any interesting relationships between the other features (not the main feature(s) of interest)?\n",
    "\n",
    "> Your answer here!"
   ]
  },
  {
   "cell_type": "markdown",
   "metadata": {},
   "source": [
    "## Multivariate Exploration\n",
    "\n",
    "> Create plots of three or more variables to investigate your data even\n",
    "further. Make sure that your investigations are justified, and follow from\n",
    "your work in the previous sections."
   ]
  },
  {
   "cell_type": "code",
   "execution_count": null,
   "metadata": {},
   "outputs": [],
   "source": []
  },
  {
   "cell_type": "markdown",
   "metadata": {},
   "source": [
    "### Talk about some of the relationships you observed in this part of the investigation. Were there features that strengthened each other in terms of looking at your feature(s) of interest?\n",
    "\n",
    "> Your answer here!\n",
    "\n",
    "### Were there any interesting or surprising interactions between features?\n",
    "\n",
    "> Your answer here!"
   ]
  },
  {
   "cell_type": "markdown",
   "metadata": {},
   "source": [
    "> At the end of your report, make sure that you export the notebook as an\n",
    "html file from the `File > Download as... > HTML` menu. Make sure you keep\n",
    "track of where the exported file goes, so you can put it in the same folder\n",
    "as this notebook for project submission. Also, make sure you remove all of\n",
    "the quote-formatted guide notes like this one before you finish your report!"
   ]
  }
 ],
 "metadata": {
  "kernelspec": {
   "display_name": "Python 3",
   "language": "python",
   "name": "python3"
  },
  "language_info": {
   "codemirror_mode": {
    "name": "ipython",
    "version": 3
   },
   "file_extension": ".py",
   "mimetype": "text/x-python",
   "name": "python",
   "nbconvert_exporter": "python",
   "pygments_lexer": "ipython3",
   "version": "3.7.4"
  }
 },
 "nbformat": 4,
 "nbformat_minor": 2
}
